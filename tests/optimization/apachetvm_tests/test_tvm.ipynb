{
  "nbformat": 4,
  "nbformat_minor": 0,
  "metadata": {
    "colab": {
      "provenance": []
    },
    "kernelspec": {
      "name": "python3",
      "display_name": "Python 3"
    },
    "language_info": {
      "name": "python"
    }
  },
  "cells": [
    {
      "cell_type": "code",
      "execution_count": null,
      "metadata": {
        "id": "9BtJzk6W2wTM"
      },
      "outputs": [],
      "source": [
        "# 0800-1223425"
      ]
    },
    {
      "cell_type": "code",
      "source": [
        "## instalar librerias para tvm\n",
        "!pip install apache-tvm --pre\n",
        "!pip install typing_extensions\n",
        "!pip install Pillow"
      ],
      "metadata": {
        "id": "lnE1Nhnj3VX1",
        "colab": {
          "base_uri": "https://localhost:8080/"
        },
        "outputId": "2c0e69b7-be06-43a2-f260-4aeba051092c"
      },
      "execution_count": 24,
      "outputs": [
        {
          "output_type": "stream",
          "name": "stdout",
          "text": [
            "Looking in indexes: https://pypi.org/simple, https://us-python.pkg.dev/colab-wheels/public/simple/\n",
            "Requirement already satisfied: apache-tvm in /usr/local/lib/python3.10/dist-packages (0.13.dev147)\n",
            "Requirement already satisfied: attrs in /usr/local/lib/python3.10/dist-packages (from apache-tvm) (23.1.0)\n",
            "Requirement already satisfied: cloudpickle in /usr/local/lib/python3.10/dist-packages (from apache-tvm) (2.2.1)\n",
            "Requirement already satisfied: decorator in /usr/local/lib/python3.10/dist-packages (from apache-tvm) (4.4.2)\n",
            "Requirement already satisfied: numpy<=1.23 in /usr/local/lib/python3.10/dist-packages (from apache-tvm) (1.22.4)\n",
            "Requirement already satisfied: psutil in /usr/local/lib/python3.10/dist-packages (from apache-tvm) (5.9.5)\n",
            "Requirement already satisfied: scipy in /usr/local/lib/python3.10/dist-packages (from apache-tvm) (1.10.1)\n",
            "Requirement already satisfied: tornado in /usr/local/lib/python3.10/dist-packages (from apache-tvm) (6.3.1)\n",
            "Looking in indexes: https://pypi.org/simple, https://us-python.pkg.dev/colab-wheels/public/simple/\n",
            "Requirement already satisfied: typing_extensions in /usr/local/lib/python3.10/dist-packages (4.5.0)\n",
            "Looking in indexes: https://pypi.org/simple, https://us-python.pkg.dev/colab-wheels/public/simple/\n",
            "Requirement already satisfied: Pillow in /usr/local/lib/python3.10/dist-packages (8.4.0)\n",
            "Looking in indexes: https://pypi.org/simple, https://us-python.pkg.dev/colab-wheels/public/simple/\n",
            "\u001b[31mERROR: Could not find a version that satisfies the requirement tlcpack (from versions: none)\u001b[0m\u001b[31m\n",
            "\u001b[0m\u001b[31mERROR: No matching distribution found for tlcpack\u001b[0m\u001b[31m\n",
            "\u001b[0m"
          ]
        }
      ]
    },
    {
      "cell_type": "code",
      "source": [
        "import tvm"
      ],
      "metadata": {
        "id": "oJkEdoJ1t2bL"
      },
      "execution_count": 25,
      "outputs": []
    },
    {
      "cell_type": "code",
      "source": [
        "!wget https://github.com/onnx/models/raw/b9a54e89508f101a1611cd64f4ef56b9cb62c7cf/vision/classification/resnet/model/resnet50-v2-7.onnx"
      ],
      "metadata": {
        "colab": {
          "base_uri": "https://localhost:8080/"
        },
        "id": "3dTeH34yt5HT",
        "outputId": "f7a2a170-a5cd-4e2d-f8e9-e3f0c848c2a8"
      },
      "execution_count": 26,
      "outputs": [
        {
          "output_type": "stream",
          "name": "stdout",
          "text": [
            "--2023-05-22 18:41:28--  https://github.com/onnx/models/raw/b9a54e89508f101a1611cd64f4ef56b9cb62c7cf/vision/classification/resnet/model/resnet50-v2-7.onnx\n",
            "Resolving github.com (github.com)... 20.27.177.113\n",
            "Connecting to github.com (github.com)|20.27.177.113|:443... connected.\n",
            "HTTP request sent, awaiting response... 302 Found\n",
            "Location: https://media.githubusercontent.com/media/onnx/models/b9a54e89508f101a1611cd64f4ef56b9cb62c7cf/vision/classification/resnet/model/resnet50-v2-7.onnx [following]\n",
            "--2023-05-22 18:41:29--  https://media.githubusercontent.com/media/onnx/models/b9a54e89508f101a1611cd64f4ef56b9cb62c7cf/vision/classification/resnet/model/resnet50-v2-7.onnx\n",
            "Resolving media.githubusercontent.com (media.githubusercontent.com)... 185.199.108.133, 185.199.109.133, 185.199.110.133, ...\n",
            "Connecting to media.githubusercontent.com (media.githubusercontent.com)|185.199.108.133|:443... connected.\n",
            "HTTP request sent, awaiting response... 200 OK\n",
            "Length: 102442450 (98M) [application/octet-stream]\n",
            "Saving to: ‘resnet50-v2-7.onnx.2’\n",
            "\n",
            "resnet50-v2-7.onnx. 100%[===================>]  97.70M   197MB/s    in 0.5s    \n",
            "\n",
            "2023-05-22 18:41:29 (197 MB/s) - ‘resnet50-v2-7.onnx.2’ saved [102442450/102442450]\n",
            "\n"
          ]
        }
      ]
    },
    {
      "cell_type": "code",
      "source": [
        "!pip install onnx"
      ],
      "metadata": {
        "colab": {
          "base_uri": "https://localhost:8080/"
        },
        "id": "n1GVOWhLxzTH",
        "outputId": "e07df007-84e2-4e35-d837-37273f03d5cf"
      },
      "execution_count": 29,
      "outputs": [
        {
          "output_type": "stream",
          "name": "stdout",
          "text": [
            "Looking in indexes: https://pypi.org/simple, https://us-python.pkg.dev/colab-wheels/public/simple/\n",
            "Collecting onnx\n",
            "  Downloading onnx-1.14.0-cp310-cp310-manylinux_2_17_x86_64.manylinux2014_x86_64.whl (14.6 MB)\n",
            "\u001b[2K     \u001b[90m━━━━━━━━━━━━━━━━━━━━━━━━━━━━━━━━━━━━━━━━\u001b[0m \u001b[32m14.6/14.6 MB\u001b[0m \u001b[31m67.1 MB/s\u001b[0m eta \u001b[36m0:00:00\u001b[0m\n",
            "\u001b[?25hRequirement already satisfied: numpy in /usr/local/lib/python3.10/dist-packages (from onnx) (1.22.4)\n",
            "Requirement already satisfied: protobuf>=3.20.2 in /usr/local/lib/python3.10/dist-packages (from onnx) (3.20.3)\n",
            "Requirement already satisfied: typing-extensions>=3.6.2.1 in /usr/local/lib/python3.10/dist-packages (from onnx) (4.5.0)\n",
            "Installing collected packages: onnx\n",
            "Successfully installed onnx-1.14.0\n"
          ]
        }
      ]
    },
    {
      "cell_type": "code",
      "source": [
        "# This may take several minutes depending on your machine\n",
        "!tvmc compile --target \"llvm\" --input-shapes \"data:[1,3,224,224]\" --output resnet50-v2-7-tvm.tar resnet50-v2-7.onnx"
      ],
      "metadata": {
        "colab": {
          "base_uri": "https://localhost:8080/"
        },
        "id": "zugGlw9nt-2k",
        "outputId": "c20f2320-25f5-44d3-ac4b-89c85f1e2b68"
      },
      "execution_count": 30,
      "outputs": [
        {
          "output_type": "stream",
          "name": "stdout",
          "text": [
            "WARNING:autotvm:One or more operators have not been tuned. Please tune your model for better performance. Use DEBUG logging level to see more details.\n"
          ]
        }
      ]
    },
    {
      "cell_type": "code",
      "source": [
        "!mkdir model\n",
        "!tar -xvf resnet50-v2-7-tvm.tar -C model\n",
        "!ls model"
      ],
      "metadata": {
        "colab": {
          "base_uri": "https://localhost:8080/"
        },
        "id": "ou8Kk9wauGiG",
        "outputId": "91d759dc-f716-4aee-806e-26bab65e337a"
      },
      "execution_count": 31,
      "outputs": [
        {
          "output_type": "stream",
          "name": "stdout",
          "text": [
            "mod.so\n",
            "mod.json\n",
            "mod.params\n",
            "mod.json  mod.params  mod.so\n"
          ]
        }
      ]
    },
    {
      "cell_type": "code",
      "source": [
        "from tvm.contrib.download import download_testdata\n",
        "from PIL import Image\n",
        "import numpy as np\n",
        "\n",
        "img_url = \"https://s3.amazonaws.com/model-server/inputs/kitten.jpg\"\n",
        "img_path = download_testdata(img_url, \"imagenet_cat.png\", module=\"data\")\n",
        "\n",
        "# Resize it to 224x224\n",
        "resized_image = Image.open(img_path).resize((224, 224))\n",
        "img_data = np.asarray(resized_image).astype(\"float32\")\n",
        "\n",
        "# ONNX expects NCHW input, so convert the array\n",
        "img_data = np.transpose(img_data, (2, 0, 1))\n",
        "\n",
        "# Normalize according to ImageNet\n",
        "imagenet_mean = np.array([0.485, 0.456, 0.406])\n",
        "imagenet_stddev = np.array([0.229, 0.224, 0.225])\n",
        "norm_img_data = np.zeros(img_data.shape).astype(\"float32\")\n",
        "for i in range(img_data.shape[0]):\n",
        "      norm_img_data[i, :, :] = (img_data[i, :, :] / 255 - imagenet_mean[i]) / imagenet_stddev[i]\n",
        "\n",
        "# Add batch dimension\n",
        "img_data = np.expand_dims(norm_img_data, axis=0)\n",
        "\n",
        "# Save to .npz (outputs imagenet_cat.npz)\n",
        "np.savez(\"imagenet_cat\", data=img_data)"
      ],
      "metadata": {
        "id": "0Y8l5Is_uNaA"
      },
      "execution_count": 32,
      "outputs": []
    },
    {
      "cell_type": "code",
      "source": [
        "!tvmc run --inputs imagenet_cat.npz --output predictions.npz resnet50-v2-7-tvm.tar"
      ],
      "metadata": {
        "colab": {
          "base_uri": "https://localhost:8080/"
        },
        "id": "FnFaJz8wua1w",
        "outputId": "fbcc4d7c-d992-4810-f2df-f6c8fd8f8781"
      },
      "execution_count": 34,
      "outputs": [
        {
          "output_type": "stream",
          "name": "stdout",
          "text": [
            "2023-05-22 18:48:47.868 INFO load_module /tmp/tmp5kglqhux/mod.so\n"
          ]
        }
      ]
    },
    {
      "cell_type": "code",
      "source": [
        "import os.path\n",
        "import numpy as np\n",
        "\n",
        "from scipy.special import softmax\n",
        "\n",
        "from tvm.contrib.download import download_testdata\n",
        "\n",
        "# Download a list of labels\n",
        "labels_url = \"https://s3.amazonaws.com/onnx-model-zoo/synset.txt\"\n",
        "labels_path = download_testdata(labels_url, \"synset.txt\", module=\"data\")\n",
        "\n",
        "with open(labels_path, \"r\") as f:\n",
        "    labels = [l.rstrip() for l in f]\n",
        "\n",
        "output_file = \"predictions.npz\"\n",
        "\n",
        "# Open the output and read the output tensor\n",
        "if os.path.exists(output_file):\n",
        "    with np.load(output_file) as data:\n",
        "        scores = softmax(data[\"output_0\"])\n",
        "        scores = np.squeeze(scores)\n",
        "        ranks = np.argsort(scores)[::-1]\n",
        "\n",
        "        for rank in ranks[0:5]:\n",
        "            print(\"class='%s' with probability=%f\" % (labels[rank], scores[rank]))"
      ],
      "metadata": {
        "colab": {
          "base_uri": "https://localhost:8080/"
        },
        "id": "zJ9w-ZNquijs",
        "outputId": "d20765c2-f84c-4370-d3fe-ef45ffbc3ae4"
      },
      "execution_count": 35,
      "outputs": [
        {
          "output_type": "stream",
          "name": "stdout",
          "text": [
            "class='n02123045 tabby, tabby cat' with probability=0.610552\n",
            "class='n02123159 tiger cat' with probability=0.367180\n",
            "class='n02124075 Egyptian cat' with probability=0.019365\n",
            "class='n02129604 tiger, Panthera tigris' with probability=0.001273\n",
            "class='n04040759 radiator' with probability=0.000261\n"
          ]
        }
      ]
    },
    {
      "cell_type": "code",
      "source": [
        "# The default search algorithm requires xgboost, see below for further\n",
        "# details on tuning search algorithms\n",
        "!pip install xgboost\n",
        "!tvmc tune --target \"llvm\" --output resnet50-v2-7-autotuner_records.json resnet50-v2-7.onnx"
      ],
      "metadata": {
        "colab": {
          "base_uri": "https://localhost:8080/"
        },
        "id": "SZVL4ddFy12G",
        "outputId": "9c64c6d7-26b1-4914-ca97-6f314e134114"
      },
      "execution_count": 36,
      "outputs": [
        {
          "output_type": "stream",
          "name": "stdout",
          "text": [
            "Looking in indexes: https://pypi.org/simple, https://us-python.pkg.dev/colab-wheels/public/simple/\n",
            "Requirement already satisfied: xgboost in /usr/local/lib/python3.10/dist-packages (1.7.5)\n",
            "Requirement already satisfied: numpy in /usr/local/lib/python3.10/dist-packages (from xgboost) (1.22.4)\n",
            "Requirement already satisfied: scipy in /usr/local/lib/python3.10/dist-packages (from xgboost) (1.10.1)\n",
            "[Task  1/25]  Current/Best:   10.20/  20.32 GFLOPS | Progress: (40/40) | 58.73 s Done.\n",
            "[Task  2/25]  Current/Best:    2.99/  16.06 GFLOPS | Progress: (40/40) | 37.26 s Done.\n",
            "[Task  3/25]  Current/Best:    8.80/  18.64 GFLOPS | Progress: (40/40) | 45.76 s Done.\n",
            "[Task  4/25]  Current/Best:    5.29/  17.42 GFLOPS | Progress: (40/40) | 52.50 s Done.\n",
            "[Task  5/25]  Current/Best:    2.33/  19.91 GFLOPS | Progress: (40/40) | 44.90 s Done.\n",
            "[Task  6/25]  Current/Best:    2.71/  15.15 GFLOPS | Progress: (40/40) | 56.07 s Done.\n",
            "[Task  7/25]  Current/Best:   13.25/  18.24 GFLOPS | Progress: (40/40) | 43.57 s Done.\n",
            "[Task 10/25]  Current/Best:   17.99/  19.34 GFLOPS | Progress: (40/40) | 44.87 s Done.\n",
            "[Task 11/25]  Current/Best:    7.56/  20.36 GFLOPS | Progress: (40/40) | 46.88 s Done.\n",
            "[Task 12/25]  Current/Best:    9.14/  19.65 GFLOPS | Progress: (40/40) | 57.94 s Done.\n",
            "[Task 13/25]  Current/Best:   10.15/  19.73 GFLOPS | Progress: (40/40) | 60.00 s Done.\n",
            "[Task 14/25]  Current/Best:    5.30/  18.01 GFLOPS | Progress: (32/40) | 51.42 s Done.\n",
            " Done.\n",
            "[Task 16/25]  Current/Best:    4.63/  17.31 GFLOPS | Progress: (40/40) | 38.56 s Done.\n",
            "[Task 17/25]  Current/Best:   14.81/  18.89 GFLOPS | Progress: (40/40) | 48.62 s Done.\n",
            "[Task 19/25]  Current/Best:    4.50/  18.47 GFLOPS | Progress: (40/40) | 59.13 s Done.\n",
            "[Task 20/25]  Current/Best:    6.35/  15.65 GFLOPS | Progress: (6/40) | 19.45 s Done.\n",
            " Done.\n",
            "[Task 22/25]  Current/Best:   15.10/  18.33 GFLOPS | Progress: (40/40) | 44.04 s Done.\n",
            "[Task 23/25]  Current/Best:   13.63/  19.05 GFLOPS | Progress: (40/40) | 60.29 s Done.\n",
            "[Task 24/25]  Current/Best:    1.27/   6.96 GFLOPS | Progress: (12/40) | 54.99 s Done.\n",
            "[Task 25/25]  Current/Best:    4.75/   9.05 GFLOPS | Progress: (40/40) | 106.00 s Done.\n",
            " Done.\n",
            " Done.\n",
            " Done.\n"
          ]
        }
      ]
    },
    {
      "cell_type": "code",
      "source": [
        "!tvmc compile --target \"llvm\" --tuning-records resnet50-v2-7-autotuner_records.json --output resnet50-v2-7-tvm_autotuned.tar resnet50-v2-7.onnx"
      ],
      "metadata": {
        "id": "im-6Ozdly4ye"
      },
      "execution_count": 38,
      "outputs": []
    },
    {
      "cell_type": "code",
      "source": [
        "!tvmc run --inputs imagenet_cat.npz --output predictions.npz resnet50-v2-7-tvm_autotuned.tar"
      ],
      "metadata": {
        "colab": {
          "base_uri": "https://localhost:8080/"
        },
        "id": "3Gb-heml6laO",
        "outputId": "b0f855f3-2c24-487e-84a0-ef441a61936b"
      },
      "execution_count": 39,
      "outputs": [
        {
          "output_type": "stream",
          "name": "stdout",
          "text": [
            "2023-05-22 19:24:27.401 INFO load_module /tmp/tmprkgccobp/mod.so\n"
          ]
        }
      ]
    },
    {
      "cell_type": "code",
      "source": [
        "labels_url = \"https://s3.amazonaws.com/onnx-model-zoo/synset.txt\"\n",
        "labels_path = download_testdata(labels_url, \"synset.txt\", module=\"data\")\n",
        "\n",
        "with open(labels_path, \"r\") as f:\n",
        "    labels = [l.rstrip() for l in f]\n",
        "\n",
        "output_file = \"predictions.npz\"\n",
        "\n",
        "# Open the output and read the output tensor\n",
        "if os.path.exists(output_file):\n",
        "    with np.load(output_file) as data:\n",
        "        scores = softmax(data[\"output_0\"])\n",
        "        scores = np.squeeze(scores)\n",
        "        ranks = np.argsort(scores)[::-1]\n",
        "\n",
        "        for rank in ranks[0:5]:\n",
        "            print(\"class='%s' with probability=%f\" % (labels[rank], scores[rank]))"
      ],
      "metadata": {
        "colab": {
          "base_uri": "https://localhost:8080/"
        },
        "id": "vo1pbdNO6pUe",
        "outputId": "77e75f35-61e4-4ac2-b9c5-05897c4a0a72"
      },
      "execution_count": 40,
      "outputs": [
        {
          "output_type": "stream",
          "name": "stdout",
          "text": [
            "class='n02123045 tabby, tabby cat' with probability=0.610552\n",
            "class='n02123159 tiger cat' with probability=0.367179\n",
            "class='n02124075 Egyptian cat' with probability=0.019365\n",
            "class='n02129604 tiger, Panthera tigris' with probability=0.001273\n",
            "class='n04040759 radiator' with probability=0.000261\n"
          ]
        }
      ]
    },
    {
      "cell_type": "code",
      "source": [
        "!tvmc run \\\n",
        "--inputs imagenet_cat.npz \\\n",
        "--output predictions.npz  \\\n",
        "--print-time \\\n",
        "--repeat 100 \\\n",
        "resnet50-v2-7-tvm_autotuned.tar"
      ],
      "metadata": {
        "colab": {
          "base_uri": "https://localhost:8080/"
        },
        "id": "HIRyOpkW6uUW",
        "outputId": "ac34a615-b187-4132-9aa9-734d14c2f580"
      },
      "execution_count": 41,
      "outputs": [
        {
          "output_type": "stream",
          "name": "stdout",
          "text": [
            "2023-05-22 19:27:17.158 INFO load_module /tmp/tmpbivzlo3f/mod.so\n",
            "Execution time summary:\n",
            " mean (ms)   median (ms)    max (ms)     min (ms)     std (ms)  \n",
            "  537.0951     457.1980     903.6262     443.9307     143.7449  \n",
            "               \n"
          ]
        }
      ]
    },
    {
      "cell_type": "code",
      "source": [
        "!tvmc run \\\n",
        "--inputs imagenet_cat.npz \\\n",
        "--output predictions.npz  \\\n",
        "--print-time \\\n",
        "--repeat 100 \\\n",
        "resnet50-v2-7-tvm.tar"
      ],
      "metadata": {
        "colab": {
          "base_uri": "https://localhost:8080/"
        },
        "id": "i6UIxm9o7hmG",
        "outputId": "92cf9cd6-9116-4a86-9189-498980f08922"
      },
      "execution_count": 42,
      "outputs": [
        {
          "output_type": "stream",
          "name": "stdout",
          "text": [
            "2023-05-22 19:28:15.554 INFO load_module /tmp/tmpb3jgb32t/mod.so\n",
            "Execution time summary:\n",
            " mean (ms)   median (ms)    max (ms)     min (ms)     std (ms)  \n",
            "  671.1440     574.1128    1132.6036     558.6864     189.8142  \n",
            "               \n"
          ]
        }
      ]
    },
    {
      "cell_type": "code",
      "source": [],
      "metadata": {
        "id": "170ShgmI7jkG"
      },
      "execution_count": null,
      "outputs": []
    }
  ]
}