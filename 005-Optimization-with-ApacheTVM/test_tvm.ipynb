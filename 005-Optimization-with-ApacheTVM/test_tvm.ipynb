{
 "cells": [
  {
   "cell_type": "markdown",
   "metadata": {
    "id": "k8RYo4aCovua"
   },
   "source": [
    "https://tvm.apache.org/docs/tutorial/tvmc_python.html\n"
   ]
  },
  {
   "cell_type": "code",
   "execution_count": 1,
   "metadata": {
    "colab": {
     "base_uri": "https://localhost:8080/"
    },
    "id": "Iq3NVHdfoq7S",
    "outputId": "e36a7a95-6f24-4b28-f44f-23e8b2ee04e6"
   },
   "outputs": [],
   "source": [
    "# !mkdir myscripts"
   ]
  },
  {
   "cell_type": "code",
   "execution_count": 3,
   "metadata": {},
   "outputs": [
    {
     "name": "stdout",
     "output_type": "stream",
     "text": [
      "/home/flor/Desktop/git_repos/YOLO-OpenVINO-TVM-GStreamer/005-Optimization-with-ApacheTVM/myscripts\n"
     ]
    }
   ],
   "source": [
    "%cd myscripts"
   ]
  },
  {
   "cell_type": "code",
   "execution_count": 3,
   "metadata": {},
   "outputs": [],
   "source": [
    "# !wget https://github.com/onnx/models/raw/b9a54e89508f101a1611cd64f4ef56b9cb62c7cf/vision/classification/resnet/model/resnet50-v2-7.onnx\n",
    "# !mv resnet50-v2-7.onnx my_model.onnx\n",
    "# # !touch tvmcpythonintro.py"
   ]
  },
  {
   "cell_type": "code",
   "execution_count": 4,
   "metadata": {
    "colab": {
     "base_uri": "https://localhost:8080/"
    },
    "id": "K-tsCv9Uo4zM",
    "outputId": "722de8fd-c953-4691-9a6d-c82805a35972"
   },
   "outputs": [],
   "source": [
    "# ## instalar librerias para tvm\n",
    "# %pip install apache-tvm --pre\n",
    "# %pip install typing_extensions\n",
    "# %pip install Pillow"
   ]
  },
  {
   "cell_type": "code",
   "execution_count": 10,
   "metadata": {},
   "outputs": [
    {
     "name": "stdout",
     "output_type": "stream",
     "text": [
      "Defaulting to user installation because normal site-packages is not writeable\n",
      "Collecting cloudpickle\n",
      "  Using cached cloudpickle-2.2.1-py3-none-any.whl (25 kB)\n",
      "\u001b[33mDEPRECATION: distro-info 1.1build1 has a non-standard version number. pip 23.3 will enforce this behaviour change. A possible replacement is to upgrade to a newer version of distro-info or contact the author to suggest that they release a version with a conforming version number. Discussion can be found at https://github.com/pypa/pip/issues/12063\u001b[0m\u001b[33m\n",
      "\u001b[0m\u001b[33mDEPRECATION: python-debian 0.1.43ubuntu1 has a non-standard version number. pip 23.3 will enforce this behaviour change. A possible replacement is to upgrade to a newer version of python-debian or contact the author to suggest that they release a version with a conforming version number. Discussion can be found at https://github.com/pypa/pip/issues/12063\u001b[0m\u001b[33m\n",
      "\u001b[0mInstalling collected packages: cloudpickle\n",
      "Successfully installed cloudpickle-2.2.1\n",
      "Note: you may need to restart the kernel to use updated packages.\n"
     ]
    }
   ],
   "source": [
    "# %pip install cloudpickle"
   ]
  },
  {
   "cell_type": "code",
   "execution_count": 5,
   "metadata": {
    "colab": {
     "base_uri": "https://localhost:8080/"
    },
    "id": "nuVNjJmIpG0V",
    "outputId": "7ba8f0be-976a-4248-c430-b785f6da28db"
   },
   "outputs": [],
   "source": [
    "# !pip install onnx"
   ]
  },
  {
   "cell_type": "code",
   "execution_count": 4,
   "metadata": {
    "id": "8Y78uR-tou_p"
   },
   "outputs": [],
   "source": [
    "from tvm.driver import tvmc\n",
    "import tvm"
   ]
  },
  {
   "cell_type": "code",
   "execution_count": 7,
   "metadata": {
    "id": "aIbTvImpo01B"
   },
   "outputs": [],
   "source": [
    "model = tvmc.load('my_model.onnx') #Step 1: Load\n",
    "# model.save(desired_model_path)"
   ]
  },
  {
   "cell_type": "code",
   "execution_count": null,
   "metadata": {
    "id": "8DuS2QnRQoqR"
   },
   "outputs": [],
   "source": [
    "# model.summary()"
   ]
  },
  {
   "cell_type": "markdown",
   "metadata": {
    "id": "uz7E_8rGRMIq"
   },
   "source": [
    "To learn more about tvm.targets and their options look at the [documentation](https://tvm.apache.org/docs/api/python/target.html).\n",
    "Some examples include:\n",
    "\n",
    "   1. cuda (Nvidia GPU)\n",
    "   2. llvm (CPU)\n",
    "   3. llvm -mcpu=cascadelake (Intel CPU)"
   ]
  },
  {
   "cell_type": "code",
   "execution_count": 11,
   "metadata": {
    "colab": {
     "base_uri": "https://localhost:8080/",
     "height": 803
    },
    "id": "VPFmuKYipPZY",
    "outputId": "546115df-7f41-41c9-878d-2e5b88d598ab"
   },
   "outputs": [
    {
     "name": "stdout",
     "output_type": "stream",
     "text": [
      "[Task  1/25]  Current/Best:    8.18/  54.89 GFLOPS | Progress: (308/308) | 223.00 s Done.\n",
      "[Task  2/25]  Current/Best:   33.51/  52.56 GFLOPS | Progress: (400/400) | 180.27 s Done.\n",
      "[Task  3/25]  Current/Best:   43.34/  55.17 GFLOPS | Progress: (400/400) | 203.98 s Done.\n",
      "[Task  4/25]  Current/Best:   37.69/  52.00 GFLOPS | Progress: (400/400) | 217.50 s Done.\n",
      "[Task  5/25]  Current/Best:   34.29/  53.19 GFLOPS | Progress: (400/400) | 193.34 s Done.\n",
      "[Task  6/25]  Current/Best:   38.46/  53.54 GFLOPS | Progress: (400/400) | 217.71 s Done.\n",
      "[Task  7/25]  Current/Best:   42.65/  53.72 GFLOPS | Progress: (400/400) | 206.50 s Done.\n",
      "[Task  9/25]  Current/Best:   14.05/  52.20 GFLOPS | Progress: (60/400) | 58.63 s s Done.\n",
      "[Task  9/25]  Current/Best:   35.20/  53.73 GFLOPS | Progress: (400/400) | 245.11 s Done.\n",
      "[Task 10/25]  Current/Best:   42.81/  53.67 GFLOPS | Progress: (400/400) | 189.72 s Done.\n",
      "[Task 11/25]  Current/Best:   39.19/  54.85 GFLOPS | Progress: (400/400) | 204.20 s Done.\n",
      "[Task 12/25]  Current/Best:   41.22/  53.67 GFLOPS | Progress: (400/400) | 215.69 s Done.\n",
      "[Task 13/25]  Current/Best:   18.97/  54.13 GFLOPS | Progress: (400/400) | 251.26 s Done.\n",
      "[Task 14/25]  Current/Best:   40.89/  53.81 GFLOPS | Progress: (400/400) | 244.92 s Done.\n",
      "[Task 15/25]  Current/Best:   37.76/  53.88 GFLOPS | Progress: (400/400) | 236.58 s Done.\n",
      "[Task 16/25]  Current/Best:   43.58/  54.38 GFLOPS | Progress: (400/400) | 188.54 s Done.\n",
      "[Task 17/25]  Current/Best:   41.92/  54.36 GFLOPS | Progress: (400/400) | 229.88 s Done.\n",
      "[Task 18/25]  Current/Best:   35.59/  53.98 GFLOPS | Progress: (400/400) | 214.58 s Done.\n",
      "[Task 19/25]  Current/Best:   27.37/  49.41 GFLOPS | Progress: (400/400) | 287.86 s Done.\n",
      "[Task 20/25]  Current/Best:   23.25/  52.47 GFLOPS | Progress: (400/400) | 290.77 s Done.\n",
      "[Task 22/25]  Current/Best:   21.97/  46.41 GFLOPS | Progress: (60/400) | 36.60 s s Done.\n",
      "[Task 22/25]  Current/Best:   30.95/  52.81 GFLOPS | Progress: (400/400) | 192.78 s Done.\n",
      "[Task 23/25]  Current/Best:   26.84/  53.99 GFLOPS | Progress: (400/400) | 257.52 s Done.\n",
      "[Task 25/25]  Current/Best:    9.30/  14.29 GFLOPS | Progress: (60/400) | 95.36 s s Done.\n",
      "[Task 25/25]  Current/Best:   10.91/  14.68 GFLOPS | Progress: (400/400) | 459.21 s"
     ]
    },
    {
     "data": {
      "text/plain": [
       "'/tmp/tmp5x5gie3x/tuning_records'"
      ]
     },
     "execution_count": 11,
     "metadata": {},
     "output_type": "execute_result"
    }
   ],
   "source": [
    "tvmc.tune(model, target=\"llvm -mcpu=cascadelake\") #Step 1.5: Optional Tune #llvm"
   ]
  },
  {
   "cell_type": "code",
   "execution_count": 12,
   "metadata": {
    "id": "w29V6UETo9UJ"
   },
   "outputs": [
    {
     "name": "stdout",
     "output_type": "stream",
     "text": [
      " Done.\n"
     ]
    }
   ],
   "source": [
    "package = tvmc.compile(model, target=\"llvm\") #Step 2: Compile #llvm"
   ]
  },
  {
   "cell_type": "code",
   "execution_count": 13,
   "metadata": {
    "colab": {
     "base_uri": "https://localhost:8080/"
    },
    "id": "YFzKwPkKpJaL",
    "outputId": "45cf2eb2-2a14-4376-8363-76fee0a56945"
   },
   "outputs": [
    {
     "name": "stderr",
     "output_type": "stream",
     "text": [
      "2023-08-18 23:28:26.181 INFO load_module /tmp/tmpg75sy07e/mod.so\n"
     ]
    }
   ],
   "source": [
    "result = tvmc.run(package, device=\"cpu\") #Step 3: Run #cpu"
   ]
  },
  {
   "cell_type": "code",
   "execution_count": 14,
   "metadata": {
    "colab": {
     "base_uri": "https://localhost:8080/"
    },
    "id": "DIniKDUVPyUh",
    "outputId": "9e3f1634-f325-47b6-b5ca-170e51bf0e5e"
   },
   "outputs": [
    {
     "name": "stdout",
     "output_type": "stream",
     "text": [
      "[]\n",
      "Output Names:\n",
      " ['output_0']\n"
     ]
    }
   ],
   "source": [
    "print(result)"
   ]
  },
  {
   "cell_type": "code",
   "execution_count": 16,
   "metadata": {
    "id": "yC8VHdgrNkSw"
   },
   "outputs": [],
   "source": [
    "# !cat /tmp/tmp5x5gie3x/tuning_records"
   ]
  },
  {
   "cell_type": "code",
   "execution_count": 21,
   "metadata": {},
   "outputs": [
    {
     "data": {
      "text/plain": [
       "<tvm.driver.tvmc.model.TVMCPackage at 0x7f310f30bca0>"
      ]
     },
     "execution_count": 21,
     "metadata": {},
     "output_type": "execute_result"
    }
   ],
   "source": [
    "tvmc.compile(model, target=\"llvm -mcpu=cascadelake\", package_path=\"whatever\") #Step 2: Compile"
   ]
  },
  {
   "cell_type": "code",
   "execution_count": 5,
   "metadata": {},
   "outputs": [],
   "source": [
    "new_package = tvmc.TVMCPackage(package_path=\"whatever\")"
   ]
  },
  {
   "cell_type": "code",
   "execution_count": null,
   "metadata": {},
   "outputs": [
    {
     "name": "stderr",
     "output_type": "stream",
     "text": [
      "2023-08-19 10:05:07.502 INFO load_module /tmp/tmp7iqndfv_/mod.so\n"
     ]
    }
   ],
   "source": [
    "result = tvmc.run(new_package, device=\"cpu\") #Step 3: Run"
   ]
  },
  {
   "cell_type": "code",
   "execution_count": null,
   "metadata": {},
   "outputs": [],
   "source": [
    "print(result)"
   ]
  },
  {
   "cell_type": "code",
   "execution_count": null,
   "metadata": {},
   "outputs": [],
   "source": []
  }
 ],
 "metadata": {
  "colab": {
   "provenance": []
  },
  "kernelspec": {
   "display_name": "Python 3 (ipykernel)",
   "language": "python",
   "name": "python3"
  },
  "language_info": {
   "codemirror_mode": {
    "name": "ipython",
    "version": 3
   },
   "file_extension": ".py",
   "mimetype": "text/x-python",
   "name": "python",
   "nbconvert_exporter": "python",
   "pygments_lexer": "ipython3",
   "version": "3.10.12"
  }
 },
 "nbformat": 4,
 "nbformat_minor": 1
}
