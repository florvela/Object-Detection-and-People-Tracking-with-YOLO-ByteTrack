{
 "cells": [
  {
   "cell_type": "markdown",
   "id": "82efb7e7",
   "metadata": {},
   "source": [
    "La medición de la utilización de recursos en un modelo de detección de objetos es fundamental para comprender su eficiencia y rendimiento. Aquí hay algunos pasos que puedes seguir para medir la utilización de recursos de un modelo de detección de objetos:\n",
    "\n",
    "1. **Herramientas de monitoreo del sistema:** Utiliza herramientas de monitoreo del sistema para medir el uso de recursos como CPU, memoria y GPU. Ejemplos de herramientas incluyen `top`, `htop`, `nvidia-smi` (para GPUs de NVIDIA), `glances`, entre otros. Estas herramientas te darán una idea de cómo el modelo está utilizando los recursos del sistema mientras se ejecuta.\n",
    "\n",
    "2. **Medición del tiempo de inferencia:** Calcula el tiempo promedio que lleva al modelo hacer una inferencia en una sola imagen. Puedes hacerlo tomando una muestra de imágenes y midiendo el tiempo que tarda el modelo en procesar cada una. Esto te dará una idea de la velocidad de inferencia y, por lo tanto, de cómo el modelo utiliza los recursos para realizar sus predicciones.\n",
    "\n",
    "3. **Consumo de memoria:** Mide el consumo de memoria del modelo durante la inferencia. Esto te dará una idea de cuánta memoria RAM y VRAM de la GPU se utilizan. Esto puede ser importante para asegurarte de que el modelo no esté causando cuellos de botella en el sistema.\n",
    "\n",
    "4. **Uso de la GPU:** Si estás utilizando una GPU para acelerar la inferencia, asegúrate de supervisar su uso. Las herramientas como `nvidia-smi` pueden proporcionar información detallada sobre el uso de la GPU, como la carga, la memoria utilizada y más."
   ]
  },
  {
   "cell_type": "markdown",
   "id": "dc27de2f",
   "metadata": {},
   "source": [
    "# yolov8"
   ]
  },
  {
   "cell_type": "code",
   "execution_count": 1,
   "id": "c6742924",
   "metadata": {},
   "outputs": [],
   "source": [
    "weights_dir = \"../002-Training-models/train_results/model_yolov8_tf_yolov8s_imgsz_640_epochs_100_batch_16_dataset_v1_weapons/weights\"\n",
    "model = f\"{weights_dir}/best.pt\""
   ]
  },
  {
   "cell_type": "code",
   "execution_count": 2,
   "id": "83408ade",
   "metadata": {},
   "outputs": [
    {
     "name": "stdout",
     "output_type": "stream",
     "text": [
      "names:\r\n",
      "- knife\r\n",
      "- pistol\r\n",
      "nc: 2\r\n",
      "roboflow:\r\n",
      "  license: Public Domain\r\n",
      "  project: weapons-h9w1e\r\n",
      "  url: https://universe.roboflow.com/threatdetection/weapons-h9w1e/dataset/3\r\n",
      "  version: 3\r\n",
      "  workspace: threatdetection\r\n",
      "test: /Users/florenciavela/Desktop/flor/git/gun-detection/datasets/yolov8_original/test/images\r\n",
      "train: /Users/florenciavela/Desktop/flor/git/gun-detection/datasets/yolov8_original/train/images\r\n",
      "val: /Users/florenciavela/Desktop/flor/git/gun-detection/datasets/yolov8_original/valid/images\r\n"
     ]
    }
   ],
   "source": [
    "data = f\"../datasets/yolov8_original/data.yaml\"\n",
    "!cat {data}"
   ]
  },
  {
   "cell_type": "code",
   "execution_count": 3,
   "id": "8840a40f",
   "metadata": {},
   "outputs": [],
   "source": [
    "from ultralytics.utils.benchmarks import benchmark"
   ]
  },
  {
   "cell_type": "markdown",
   "id": "3120624b",
   "metadata": {},
   "source": [
    "## Benchmark"
   ]
  },
  {
   "cell_type": "code",
   "execution_count": 5,
   "id": "d253cbf3",
   "metadata": {},
   "outputs": [
    {
     "name": "stderr",
     "output_type": "stream",
     "text": [
      "Ultralytics YOLOv8.0.149 🚀 Python-3.10.10 torch-2.0.0 CPU (Apple M2)\n",
      "Setup complete ✅ (8 CPUs, 16.0 GB RAM, 515.1/926.4 GB disk)\n",
      "\n",
      "Benchmarks complete for best.pt on ../datasets/yolov8_original/data.yaml at imgsz=640 (372.54s)\n",
      "                   Format Status❔  Size (MB)  metrics/mAP50-95(B)  Inference time (ms/im)\n",
      "0                 PyTorch       ✅       21.5               0.6412                  137.53\n",
      "1             TorchScript       ✅       42.9               0.6409                  194.31\n",
      "2                    ONNX       ❎       42.6                  NaN                     NaN\n",
      "3                OpenVINO       ❌        0.0                  NaN                     NaN\n",
      "4                TensorRT       ❌        0.0                  NaN                     NaN\n",
      "5                  CoreML       ❌        0.0                  NaN                     NaN\n",
      "6   TensorFlow SavedModel       ❌        0.0                  NaN                     NaN\n",
      "7     TensorFlow GraphDef       ❌        0.0                  NaN                     NaN\n",
      "8         TensorFlow Lite       ❌        0.0                  NaN                     NaN\n",
      "9     TensorFlow Edge TPU       ❌        0.0                  NaN                     NaN\n",
      "10          TensorFlow.js       ❌        0.0                  NaN                     NaN\n",
      "11           PaddlePaddle       ❌        0.0                  NaN                     NaN\n",
      "12                   ncnn       ❌        0.0                  NaN                     NaN\n",
      "\n"
     ]
    },
    {
     "data": {
      "text/html": [
       "<div>\n",
       "<style scoped>\n",
       "    .dataframe tbody tr th:only-of-type {\n",
       "        vertical-align: middle;\n",
       "    }\n",
       "\n",
       "    .dataframe tbody tr th {\n",
       "        vertical-align: top;\n",
       "    }\n",
       "\n",
       "    .dataframe thead th {\n",
       "        text-align: right;\n",
       "    }\n",
       "</style>\n",
       "<table border=\"1\" class=\"dataframe\">\n",
       "  <thead>\n",
       "    <tr style=\"text-align: right;\">\n",
       "      <th></th>\n",
       "      <th>Format</th>\n",
       "      <th>Status❔</th>\n",
       "      <th>Size (MB)</th>\n",
       "      <th>metrics/mAP50-95(B)</th>\n",
       "      <th>Inference time (ms/im)</th>\n",
       "    </tr>\n",
       "  </thead>\n",
       "  <tbody>\n",
       "    <tr>\n",
       "      <th>0</th>\n",
       "      <td>PyTorch</td>\n",
       "      <td>✅</td>\n",
       "      <td>21.5</td>\n",
       "      <td>0.6412</td>\n",
       "      <td>137.53</td>\n",
       "    </tr>\n",
       "    <tr>\n",
       "      <th>1</th>\n",
       "      <td>TorchScript</td>\n",
       "      <td>✅</td>\n",
       "      <td>42.9</td>\n",
       "      <td>0.6409</td>\n",
       "      <td>194.31</td>\n",
       "    </tr>\n",
       "    <tr>\n",
       "      <th>2</th>\n",
       "      <td>ONNX</td>\n",
       "      <td>❎</td>\n",
       "      <td>42.6</td>\n",
       "      <td>NaN</td>\n",
       "      <td>NaN</td>\n",
       "    </tr>\n",
       "    <tr>\n",
       "      <th>3</th>\n",
       "      <td>OpenVINO</td>\n",
       "      <td>❌</td>\n",
       "      <td>0.0</td>\n",
       "      <td>NaN</td>\n",
       "      <td>NaN</td>\n",
       "    </tr>\n",
       "    <tr>\n",
       "      <th>4</th>\n",
       "      <td>TensorRT</td>\n",
       "      <td>❌</td>\n",
       "      <td>0.0</td>\n",
       "      <td>NaN</td>\n",
       "      <td>NaN</td>\n",
       "    </tr>\n",
       "    <tr>\n",
       "      <th>5</th>\n",
       "      <td>CoreML</td>\n",
       "      <td>❌</td>\n",
       "      <td>0.0</td>\n",
       "      <td>NaN</td>\n",
       "      <td>NaN</td>\n",
       "    </tr>\n",
       "    <tr>\n",
       "      <th>6</th>\n",
       "      <td>TensorFlow SavedModel</td>\n",
       "      <td>❌</td>\n",
       "      <td>0.0</td>\n",
       "      <td>NaN</td>\n",
       "      <td>NaN</td>\n",
       "    </tr>\n",
       "    <tr>\n",
       "      <th>7</th>\n",
       "      <td>TensorFlow GraphDef</td>\n",
       "      <td>❌</td>\n",
       "      <td>0.0</td>\n",
       "      <td>NaN</td>\n",
       "      <td>NaN</td>\n",
       "    </tr>\n",
       "    <tr>\n",
       "      <th>8</th>\n",
       "      <td>TensorFlow Lite</td>\n",
       "      <td>❌</td>\n",
       "      <td>0.0</td>\n",
       "      <td>NaN</td>\n",
       "      <td>NaN</td>\n",
       "    </tr>\n",
       "    <tr>\n",
       "      <th>9</th>\n",
       "      <td>TensorFlow Edge TPU</td>\n",
       "      <td>❌</td>\n",
       "      <td>0.0</td>\n",
       "      <td>NaN</td>\n",
       "      <td>NaN</td>\n",
       "    </tr>\n",
       "    <tr>\n",
       "      <th>10</th>\n",
       "      <td>TensorFlow.js</td>\n",
       "      <td>❌</td>\n",
       "      <td>0.0</td>\n",
       "      <td>NaN</td>\n",
       "      <td>NaN</td>\n",
       "    </tr>\n",
       "    <tr>\n",
       "      <th>11</th>\n",
       "      <td>PaddlePaddle</td>\n",
       "      <td>❌</td>\n",
       "      <td>0.0</td>\n",
       "      <td>NaN</td>\n",
       "      <td>NaN</td>\n",
       "    </tr>\n",
       "    <tr>\n",
       "      <th>12</th>\n",
       "      <td>ncnn</td>\n",
       "      <td>❌</td>\n",
       "      <td>0.0</td>\n",
       "      <td>NaN</td>\n",
       "      <td>NaN</td>\n",
       "    </tr>\n",
       "  </tbody>\n",
       "</table>\n",
       "</div>"
      ],
      "text/plain": [
       "                   Format Status❔  Size (MB)  metrics/mAP50-95(B)  Inference time (ms/im)\n",
       "0                 PyTorch       ✅       21.5               0.6412                  137.53\n",
       "1             TorchScript       ✅       42.9               0.6409                  194.31\n",
       "2                    ONNX       ❎       42.6                  NaN                     NaN\n",
       "3                OpenVINO       ❌        0.0                  NaN                     NaN\n",
       "4                TensorRT       ❌        0.0                  NaN                     NaN\n",
       "5                  CoreML       ❌        0.0                  NaN                     NaN\n",
       "6   TensorFlow SavedModel       ❌        0.0                  NaN                     NaN\n",
       "7     TensorFlow GraphDef       ❌        0.0                  NaN                     NaN\n",
       "8         TensorFlow Lite       ❌        0.0                  NaN                     NaN\n",
       "9     TensorFlow Edge TPU       ❌        0.0                  NaN                     NaN\n",
       "10          TensorFlow.js       ❌        0.0                  NaN                     NaN\n",
       "11           PaddlePaddle       ❌        0.0                  NaN                     NaN\n",
       "12                   ncnn       ❌        0.0                  NaN                     NaN"
      ]
     },
     "execution_count": 5,
     "metadata": {},
     "output_type": "execute_result"
    }
   ],
   "source": [
    "benchmark(model=model, data=data, imgsz=640, half=False)"
   ]
  },
  {
   "cell_type": "code",
   "execution_count": null,
   "id": "236d1734",
   "metadata": {},
   "outputs": [],
   "source": []
  }
 ],
 "metadata": {
  "kernelspec": {
   "display_name": "Python 3 (ipykernel)",
   "language": "python",
   "name": "python3"
  },
  "language_info": {
   "codemirror_mode": {
    "name": "ipython",
    "version": 3
   },
   "file_extension": ".py",
   "mimetype": "text/x-python",
   "name": "python",
   "nbconvert_exporter": "python",
   "pygments_lexer": "ipython3",
   "version": "3.10.10"
  }
 },
 "nbformat": 4,
 "nbformat_minor": 5
}
