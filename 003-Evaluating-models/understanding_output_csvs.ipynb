{
 "cells": [
  {
   "cell_type": "code",
   "execution_count": 8,
   "id": "3fa144c2",
   "metadata": {},
   "outputs": [],
   "source": [
    "import pandas as pd\n",
    "import os"
   ]
  },
  {
   "cell_type": "code",
   "execution_count": 7,
   "id": "254c7d96",
   "metadata": {},
   "outputs": [
    {
     "name": "stdout",
     "output_type": "stream",
     "text": [
      "                                            model_key   model              tf  \\\n",
      "0   model_yolov5_tf_no_imgsz_800_epochs_100_batch_...  yolov5              no   \n",
      "1   model_yolov5_tf_yolov5s_imgsz_640_epochs_100_b...  yolov5         yolov5s   \n",
      "2   model_yolov5_tf_yolov5s_imgsz_800_epochs_100_b...  yolov5         yolov5s   \n",
      "3   model_yolov7_tf_yolov7training_imgsz_640_epoch...  yolov7  yolov7training   \n",
      "4   model_yolov7_tf_yolov7training_imgsz_800_epoch...  yolov7  yolov7training   \n",
      "5   model_yolov8_tf_no_imgsz_800_epochs_100_batch_...  yolov8              no   \n",
      "6   model_yolov8_tf_yolov8l_imgsz_800_epochs_100_b...  yolov8         yolov8l   \n",
      "7   model_yolov8_tf_yolov8s_imgsz_640_epochs_100_b...  yolov8         yolov8s   \n",
      "8   model_yolov8_tf_yolov8s_imgsz_640_epochs_73_ba...  yolov8         yolov8s   \n",
      "9   model_yolov8_tf_yolov8s_imgsz_800_epochs_100_b...  yolov8         yolov8s   \n",
      "10  model_yolov8_tf_yolov8s_imgsz_800_epochs_100_b...  yolov8         yolov8s   \n",
      "11  model_yolov8_tf_yolov8s_imgsz_800_epochs_78_ba...  yolov8         yolov8s   \n",
      "\n",
      "    imgsz  epochs  batch dataset  pistol_P  pistol_R  pistol_F1  \\\n",
      "0     800     100     16      v1    0.0716    0.1130   0.043829   \n",
      "1     640     100     16      v1    0.0910    0.1230   0.052304   \n",
      "2     800     100     16      v1    0.1630    0.0431   0.034087   \n",
      "3     640     100     16      v1    0.4760    0.2030   0.142309   \n",
      "4     800     100      8      v1    0.1380    0.1560   0.073224   \n",
      "5     800     100     16      v1    0.1370    0.1170   0.063106   \n",
      "6     800     100     16      v1    0.1570    0.1270   0.070208   \n",
      "7     640     100     16      v1    0.1590    0.1070   0.063959   \n",
      "8     640      73     16      v2    0.5580    0.3480   0.214331   \n",
      "9     800     100     16      v1    0.2220    0.1180   0.077047   \n",
      "10    800     100     16      v3    0.9650    0.9370   0.475397   \n",
      "11    800      78     16      v2    0.6570    0.2740   0.193360   \n",
      "\n",
      "    pistol_mAP@.5  pistol_mAP@.5:.95  \n",
      "0          0.0276            0.00805  \n",
      "1          0.0289            0.00935  \n",
      "2          0.0292            0.01040  \n",
      "3          0.2100            0.08670  \n",
      "4          0.0769            0.02890  \n",
      "5          0.0488            0.01980  \n",
      "6          0.0615            0.02610  \n",
      "7          0.0484            0.01990  \n",
      "8          0.3720            0.14700  \n",
      "9          0.0726            0.03070  \n",
      "10         0.9600            0.58500  \n",
      "11         0.3150            0.12600  \n",
      "                                            model_key   model              tf  \\\n",
      "0   model_yolov5_tf_no_imgsz_800_epochs_100_batch_...  yolov5              no   \n",
      "1   model_yolov5_tf_yolov5s_imgsz_640_epochs_100_b...  yolov5         yolov5s   \n",
      "2   model_yolov5_tf_yolov5s_imgsz_800_epochs_100_b...  yolov5         yolov5s   \n",
      "3   model_yolov7_tf_yolov7training_imgsz_640_epoch...  yolov7  yolov7training   \n",
      "4   model_yolov7_tf_yolov7training_imgsz_800_epoch...  yolov7  yolov7training   \n",
      "5   model_yolov8_tf_no_imgsz_800_epochs_100_batch_...  yolov8              no   \n",
      "6   model_yolov8_tf_yolov8l_imgsz_800_epochs_100_b...  yolov8         yolov8l   \n",
      "7   model_yolov8_tf_yolov8s_imgsz_640_epochs_100_b...  yolov8         yolov8s   \n",
      "8   model_yolov8_tf_yolov8s_imgsz_640_epochs_73_ba...  yolov8         yolov8s   \n",
      "9   model_yolov8_tf_yolov8s_imgsz_800_epochs_100_b...  yolov8         yolov8s   \n",
      "10  model_yolov8_tf_yolov8s_imgsz_800_epochs_100_b...  yolov8         yolov8s   \n",
      "11  model_yolov8_tf_yolov8s_imgsz_800_epochs_78_ba...  yolov8         yolov8s   \n",
      "\n",
      "    imgsz  epochs  batch dataset  pistol_P  pistol_R  pistol_F1  \\\n",
      "0     800     100     16      v1    0.0476    0.1080   0.033039   \n",
      "1     640     100     16      v1    0.0734    0.0901   0.040449   \n",
      "2     800     100     16      v1    0.1350    0.0431   0.032670   \n",
      "3     640     100     16      v1    0.3660    0.1970   0.128067   \n",
      "4     800     100      8      v1    0.1720    0.0977   0.062308   \n",
      "5     800     100     16      v1    0.1010    0.1040   0.051239   \n",
      "6     800     100     16      v1    0.1080    0.1140   0.055459   \n",
      "7     640     100     16      v1    0.1040    0.1020   0.051495   \n",
      "8     640      73     16      v2    0.6070    0.2780   0.190673   \n",
      "9     800     100     16      v1    0.1990    0.1050   0.068734   \n",
      "10    800     100     16      v3    0.9100    0.9350   0.461165   \n",
      "11    800      78     16      v2    0.5780    0.2630   0.180754   \n",
      "\n",
      "    pistol_mAP@.5  pistol_mAP@.5:.95  \n",
      "0          0.0212            0.00637  \n",
      "1          0.0175            0.00561  \n",
      "2          0.0241            0.00886  \n",
      "3          0.1750            0.07440  \n",
      "4          0.0560            0.02150  \n",
      "5          0.0338            0.01380  \n",
      "6          0.0411            0.01750  \n",
      "7          0.0342            0.01450  \n",
      "8          0.3130            0.12500  \n",
      "9          0.0622            0.02670  \n",
      "10         0.9460            0.57000  \n",
      "11         0.2420            0.09680  \n"
     ]
    }
   ],
   "source": [
    "for filename in os.listdir():\n",
    "    if \"output\" in filename and filename.endswith(\".csv\"):\n",
    "        df = pd.read_csv(filename)\n",
    "        # df.set_index('model_key', inplace=True)\n",
    "        print(df)"
   ]
  },
  {
   "cell_type": "code",
   "execution_count": null,
   "id": "adcf6c7a",
   "metadata": {},
   "outputs": [],
   "source": []
  }
 ],
 "metadata": {
  "kernelspec": {
   "display_name": "Python 3 (ipykernel)",
   "language": "python",
   "name": "python3"
  },
  "language_info": {
   "codemirror_mode": {
    "name": "ipython",
    "version": 3
   },
   "file_extension": ".py",
   "mimetype": "text/x-python",
   "name": "python",
   "nbconvert_exporter": "python",
   "pygments_lexer": "ipython3",
   "version": "3.10.9"
  }
 },
 "nbformat": 4,
 "nbformat_minor": 5
}
