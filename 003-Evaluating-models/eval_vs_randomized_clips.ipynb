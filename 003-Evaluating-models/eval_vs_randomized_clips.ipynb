{
 "cells": [
  {
   "cell_type": "code",
   "execution_count": 1,
   "metadata": {},
   "outputs": [],
   "source": [
    "import pandas as pd\n",
    "import os\n",
    "import matplotlib.pyplot as plt\n",
    "import subprocess"
   ]
  },
  {
   "cell_type": "code",
   "execution_count": 2,
   "metadata": {
    "colab": {
     "base_uri": "https://localhost:8080/"
    },
    "id": "JSjXQ8eB2D6s",
    "outputId": "3745517f-4e04-4661-8d7e-27112d318abe"
   },
   "outputs": [
    {
     "name": "stdout",
     "output_type": "stream",
     "text": [
      "\u001b[34mmodel_yolov5_tf_no_imgsz_800_epochs_100_batch_16_dataset_v1_weapons\u001b[m\u001b[m\r\n",
      "\u001b[34mmodel_yolov5_tf_yolov5s_imgsz_640_epochs_100_batch_16_dataset_v1_weapons\u001b[m\u001b[m\r\n",
      "\u001b[34mmodel_yolov5_tf_yolov5s_imgsz_800_epochs_100_batch_16_dataset_v1_weapons\u001b[m\u001b[m\r\n",
      "\u001b[34mmodel_yolov7_tf_yolov7training_imgsz_640_epochs_100_batch_16_dataset_v1_weapons\u001b[m\u001b[m\r\n",
      "\u001b[34mmodel_yolov7_tf_yolov7training_imgsz_800_epochs_100_batch_8_dataset_v1_weapons\u001b[m\u001b[m\r\n",
      "\u001b[34mmodel_yolov8_tf_no_imgsz_800_epochs_100_batch_16_dataset_v1_weapons\u001b[m\u001b[m\r\n",
      "\u001b[34mmodel_yolov8_tf_yolov8l_imgsz_800_epochs_100_batch_16_dataset_v1_weapons\u001b[m\u001b[m\r\n",
      "\u001b[34mmodel_yolov8_tf_yolov8s_imgsz_640_epochs_100_batch_16_dataset_v1_weapons\u001b[m\u001b[m\r\n",
      "\u001b[34mmodel_yolov8_tf_yolov8s_imgsz_640_epochs_73_batch_16_dataset_v2\u001b[m\u001b[m\r\n",
      "\u001b[34mmodel_yolov8_tf_yolov8s_imgsz_800_epochs_100_batch_16_dataset_v1_weapons\u001b[m\u001b[m\r\n",
      "\u001b[34mmodel_yolov8_tf_yolov8s_imgsz_800_epochs_100_batch_16_dataset_v3_randomizedclips\u001b[m\u001b[m\r\n",
      "\u001b[34mmodel_yolov8_tf_yolov8s_imgsz_800_epochs_78_batch_16_dataset_v2\u001b[m\u001b[m\r\n"
     ]
    }
   ],
   "source": [
    "train_results_dir = os.getcwd() + \"/../002-Training-models/train_results/\"\n",
    "!ls {train_results_dir}"
   ]
  },
  {
   "cell_type": "code",
   "execution_count": 3,
   "metadata": {},
   "outputs": [],
   "source": [
    "eval_results_dir = os.getcwd()\n",
    "dataset_dir = os.getcwd()+\"/../datasets/\"\n",
    "output_file = \"output.txt\""
   ]
  },
  {
   "cell_type": "code",
   "execution_count": 4,
   "metadata": {},
   "outputs": [
    {
     "name": "stdout",
     "output_type": "stream",
     "text": [
      "mkdir: yolov8: File exists\n",
      "YOLOv8 setup complete.\n"
     ]
    }
   ],
   "source": [
    "# Download YOLOv8\n",
    "!pip install ultralytics\n",
    "\n",
    "from IPython import display\n",
    "display.clear_output()\n",
    "\n",
    "!mkdir yolov8\n",
    "\n",
    "from ultralytics import YOLO\n",
    "print('YOLOv8 setup complete.')"
   ]
  },
  {
   "cell_type": "code",
   "execution_count": 5,
   "metadata": {},
   "outputs": [
    {
     "name": "stdout",
     "output_type": "stream",
     "text": [
      "YOLOv7 setup complete.\n",
      "/Users/florenciavela/Desktop/flor/git/gun-detection/003-Evaluating-models\n"
     ]
    }
   ],
   "source": [
    "# Download YOLOv7\n",
    "# !git clone https://github.com/WongKinYiu/yolov7\n",
    "%cd yolov7\n",
    "!pip install -r requirements.txt\n",
    "\n",
    "from IPython import display\n",
    "display.clear_output()\n",
    "print('YOLOv7 setup complete.')\n",
    "%cd .."
   ]
  },
  {
   "cell_type": "code",
   "execution_count": 6,
   "metadata": {},
   "outputs": [
    {
     "name": "stdout",
     "output_type": "stream",
     "text": [
      "YOLOv5 setup complete. Using torch 2.0.0 CPU\n",
      "/Users/florenciavela/Desktop/flor/git/gun-detection/003-Evaluating-models\n"
     ]
    }
   ],
   "source": [
    "# Download YOLOv5\n",
    "# !git clone https://github.com/ultralytics/yolov5  # clone repo\n",
    "%cd yolov5\n",
    "# install dependencies as necessary\n",
    "!pip install -qr requirements.txt  # install dependencies (ignore errors)\n",
    "import torch\n",
    "\n",
    "from IPython import display\n",
    "display.clear_output()\n",
    "print('YOLOv5 setup complete. Using torch %s %s' % (torch.__version__, torch.cuda.get_device_properties(0) if torch.cuda.is_available() else 'CPU'))\n",
    "%cd .."
   ]
  },
  {
   "cell_type": "code",
   "execution_count": 17,
   "metadata": {},
   "outputs": [
    {
     "name": "stdout",
     "output_type": "stream",
     "text": [
      "/Users/florenciavela/Desktop/flor/git/gun-detection/003-Evaluating-models\n"
     ]
    }
   ],
   "source": [
    "%cd /Users/florenciavela/Desktop/flor/git/gun-detection/003-Evaluating-models"
   ]
  },
  {
   "cell_type": "code",
   "execution_count": null,
   "metadata": {},
   "outputs": [
    {
     "name": "stdout",
     "output_type": "stream",
     "text": [
      "Executing command... DONE!\n",
      "\n",
      "model_yolov8_tf_yolov8s_imgsz_800_epochs_78_batch_16_dataset_v2\n",
      "Model: yolov8\n",
      "TF: yolov8s\n",
      "Imgsz: 800\n",
      "Epochs: 78\n",
      "Batch: 16\n",
      "Dataset: v2\n",
      "Executing command...\n",
      "\n",
      "/Users/florenciavela/Desktop/flor/git/gun-detection/003-Evaluating-models/yolov8\n",
      "yolo val model=/Users/florenciavela/Desktop/flor/git/gun-detection/003-Evaluating-models/../002-Training-models/train_results/model_yolov8_tf_yolov8s_imgsz_800_epochs_78_batch_16_dataset_v2/weights/best.pt data=/Users/florenciavela/Desktop/flor/git/gun-detection/003-Evaluating-models/../datasets/yolov8_guns_only/data.yaml split=test name=model_yolov8_tf_yolov8s_imgsz_800_epochs_78_batch_16_dataset_v2\n",
      "/Users/florenciavela/Desktop/flor/git/gun-detection/003-Evaluating-models/output.txt\n",
      "Ultralytics YOLOv8.0.149 🚀 Python-3.10.10 torch-2.0.0 CPU (Apple M2)\n",
      "Model summary (fused): 168 layers, 11125971 parameters, 0 gradients\n",
      "\n",
      "\u001b[34m\u001b[1mval: \u001b[0mScanning /Users/florenciavela/Desktop/flor/git/gun-detection/datasets/yolov8_guns_only/valid/labels.cache... 1339 images, 575 backgrounds, 0 corrupt: 100%|██████████| 1339/1339 [00:00<?, ?it/s]\n",
      "\u001b[34m\u001b[1mval: \u001b[0mScanning /Users/florenciavela/Desktop/flor/git/gun-detection/datasets/yolov8_guns_only/valid/labels.cache... 1339 images, 575 backgrounds, 0 corrupt: 100%|██████████| 1339/1339 [00:00<?, ?it/s]\n",
      "\n",
      "                 Class     Images  Instances      Box(P          R      mAP50  mAP50-95):   0%|          | 0/84 [00:00<?, ?it/s]\n",
      "                 Class     Images  Instances      Box(P          R      mAP50  mAP50-95):   1%|          | 1/84 [00:07<10:52,  7.86s/it]\n",
      "                 Class     Images  Instances      Box(P          R      mAP50  mAP50-95):   2%|▏         | 2/84 [00:16<11:38,  8.51s/it]\n",
      "                 Class     Images  Instances      Box(P          R      mAP50  mAP50-95):   4%|▎         | 3/84 [00:25<11:45,  8.71s/it]\n",
      "                 Class     Images  Instances      Box(P          R      mAP50  mAP50-95):   5%|▍         | 4/84 [00:34<11:45,  8.82s/it]\n",
      "                 Class     Images  Instances      Box(P          R      mAP50  mAP50-95):   6%|▌         | 5/84 [00:43<11:33,  8.78s/it]\n",
      "                 Class     Images  Instances      Box(P          R      mAP50  mAP50-95):   7%|▋         | 6/84 [00:52<11:25,  8.79s/it]\n",
      "                 Class     Images  Instances      Box(P          R      mAP50  mAP50-95):   8%|▊         | 7/84 [01:00<11:14,  8.76s/it]\n",
      "                 Class     Images  Instances      Box(P          R      mAP50  mAP50-95):  10%|▉         | 8/84 [01:09<11:03,  8.73s/it]\n",
      "                 Class     Images  Instances      Box(P          R      mAP50  mAP50-95):  11%|█         | 9/84 [01:18<10:54,  8.73s/it]\n",
      "                 Class     Images  Instances      Box(P          R      mAP50  mAP50-95):  12%|█▏        | 10/84 [01:27<10:44,  8.71s/it]\n",
      "                 Class     Images  Instances      Box(P          R      mAP50  mAP50-95):  13%|█▎        | 11/84 [01:36<10:41,  8.79s/it]\n",
      "                 Class     Images  Instances      Box(P          R      mAP50  mAP50-95):  14%|█▍        | 12/84 [01:45<10:42,  8.93s/it]\n"
     ]
    }
   ],
   "source": [
    "for folder_name in sorted(os.listdir(train_results_dir)):\n",
    "    if not folder_name.startswith(\"model\"):\n",
    "        continue\n",
    "\n",
    "    folder_path = os.path.join(train_results_dir, folder_name, \"weights\")\n",
    "\n",
    "    # Split the folder name into variables\n",
    "    variables = folder_name.split('_')\n",
    "\n",
    "    # Extract the required variables\n",
    "    model = variables[1]\n",
    "    tf = variables[3]\n",
    "    imgsz = variables[5]\n",
    "    epochs = variables[7]\n",
    "    batch = variables[9]\n",
    "    dataset = variables[11]\n",
    "    \n",
    "    print(folder_name)\n",
    "    print(\"Model:\", model)\n",
    "    print(\"TF:\", tf)\n",
    "    print(\"Imgsz:\", imgsz)\n",
    "    print(\"Epochs:\", epochs)\n",
    "    print(\"Batch:\", batch)\n",
    "    print(\"Dataset:\", dataset)\n",
    "    print(\"Executing command...\")\n",
    "    print()\n",
    "    \n",
    "    if dataset == \"v1\":\n",
    "        dataset_location = dataset_dir + model\n",
    "    else:\n",
    "        dataset_location = dataset_dir + model +\"_guns_only\"\n",
    "        \n",
    "    command = None\n",
    "    \n",
    "    if model == \"yolov5\":\n",
    "        %cd yolov5\n",
    "        best_pt_path = os.path.join(folder_path, \"best.pt\")\n",
    "        \n",
    "        command = f\"python3 val.py --weights {best_pt_path} --data {dataset_location}/data.yaml --task val --name {folder_name}\"\n",
    "        print(command)\n",
    "\n",
    "    elif model == \"yolov7\":\n",
    "        %cd yolov7\n",
    "        best_pt_path = os.path.join(folder_path, \"best.pt\")\n",
    "        command = f\"python3 test.py --weights {best_pt_path} --data {dataset_location}/data.yaml --task test --name {folder_name}\"\n",
    "        print(command)\n",
    "\n",
    "    elif model == \"yolov8\":\n",
    "        %cd yolov8\n",
    "        best_pt_path = os.path.join(folder_path, \"best.pt\")\n",
    "        command = f\"yolo val model={best_pt_path} data={dataset_location}/data.yaml split=test name={folder_name}\"\n",
    "        print(command)\n",
    "\n",
    "    if command:\n",
    "        # Run the command using subprocess.Popen and capture the output\n",
    "        with subprocess.Popen(command, shell=True, stdout=subprocess.PIPE, stderr=subprocess.STDOUT, text=True) as process:\n",
    "            # Open the output file for writing\n",
    "            with open(f\"{eval_results_dir}/{output_file}\", \"a\") as file:\n",
    "                !ls {eval_results_dir}/{output_file}\n",
    "                file.write(folder_name)\n",
    "                file.write(f\"\\nModel: {model}\")\n",
    "                file.write(f\"\\nTF: {tf}\")\n",
    "                file.write(f\"\\nImgsz: {imgsz}\")\n",
    "                file.write(f\"\\nEpochs: {epochs}\")\n",
    "                file.write(f\"\\nBatch: {batch}\")\n",
    "                file.write(f\"\\nDataset: {dataset}\\n\")\n",
    "                # Read and display each line of the output as it becomes available\n",
    "                for line in process.stdout:\n",
    "                    print(line, end=\"\")\n",
    "                    file.write(line)\n",
    "        %cd ..\n",
    "\n",
    "    from IPython import display\n",
    "    display.clear_output()\n",
    "    \n",
    "\n",
    "    print(\"Executing command...\", \"DONE!\")\n",
    "    print()"
   ]
  },
  {
   "cell_type": "code",
   "execution_count": null,
   "metadata": {},
   "outputs": [],
   "source": [
    "eval_results_dir = os.getcwd()\n",
    "dataset_dir = os.getcwd()+\"/../datasets/\"\n",
    "output_file = \"output.txt\"\n",
    "\n",
    "\n",
    "def process_file(file_path):\n",
    "    results = list()\n",
    "    curr_res = dict()\n",
    "\n",
    "    with open(file_path, 'r') as file:\n",
    "        lines = file.readlines()\n",
    "\n",
    "    for line in lines:\n",
    "        if line.startswith(\"Model:\"):\n",
    "            curr_res[\"model\"] = line.split()[1]\n",
    "        elif line.startswith(\"TF:\"):\n",
    "            curr_res[\"tf\"] = line.split()[1]\n",
    "        elif line.startswith(\"Imgsz:\"):\n",
    "            curr_res[\"imgsz\"] = line.split()[1]\n",
    "        elif line.startswith(\"Epochs:\"):\n",
    "            curr_res[\"epochs\"] = line.split()[1]\n",
    "        elif line.startswith(\"Batch:\"):\n",
    "            curr_res[\"batch\"] = line.split()[1]\n",
    "        elif line.startswith(\"Dataset:\"):\n",
    "            curr_res[\"dataset\"] = line.split()[1]\n",
    "            print(line.split())\n",
    "            \n",
    "        if  \"saved\" in line or \"all\" in line or \"knife\" in line or \"pistol\" in line:\n",
    "#             if line.strip(\" \").startswith(\"all\"):\n",
    "#                 P, R, mAP5, mAP95 = line.split()[3:]\n",
    "#                 curr_res[\"all_P\"] = P\n",
    "#                 curr_res[\"all_R\"] = R\n",
    "#                 curr_res[\"all_F1\"] = (float(P) * float(R)) / (float(P) + float(R))\n",
    "#                 curr_res[\"all_mAP@.5\"] = mAP5\n",
    "#                 curr_res[\"all_mAP@.5:.95\"] = mAP95\n",
    "\n",
    "#             elif line.strip(\" \").startswith(\"knife\"):\n",
    "#                 P, R, mAP5, mAP95 = line.split()[3:]\n",
    "#                 curr_res[\"knife_P\"] = P\n",
    "#                 curr_res[\"knife_R\"] = R\n",
    "#                 curr_res[\"knife_F1\"] = (float(P) * float(R)) / (float(P) + float(R))\n",
    "#                 curr_res[\"knife_mAP@.5\"] = mAP5\n",
    "#                 curr_res[\"knife_mAP@.5:.95\"] = mAP95\n",
    "\n",
    "            if line.strip(\" \").startswith(\"pistol\") or line.strip(\" \").startswith(\"gun\"):\n",
    "                P, R, mAP5, mAP95 = line.split()[3:]\n",
    "                curr_res[\"pistol_P\"] = P\n",
    "                curr_res[\"pistol_R\"] = R\n",
    "                curr_res[\"pistol_F1\"] = (float(P) * float(R)) / (float(P) + float(R))\n",
    "                curr_res[\"pistol_mAP@.5\"] = mAP5\n",
    "                curr_res[\"pistol_mAP@.5:.95\"] = mAP95\n",
    "\n",
    "            elif line.strip(\" \").startswith(\"Results saved to\"):\n",
    "                model_key = line.split(\"/\")[-1].replace('\\x1b[0m', '').replace('\\n', '')\n",
    "                model_info = model_key.split(\"_\")\n",
    "                \n",
    "#                 if not big_flag:\n",
    "#                     curr_res[\"model\"] = model_info[1]\n",
    "#                     curr_res[\"tf\"] = model_info[3]\n",
    "#                     curr_res[\"imgsz\"] = model_info[5]\n",
    "#                     curr_res[\"epochs\"] = model_info[7]\n",
    "#                     curr_res[\"batch\"] = model_info[9]\n",
    "                    \n",
    "                curr_res[\"model_key\"] = model_key\n",
    "\n",
    "                results.append(curr_res)\n",
    "                curr_res = dict()\n",
    "\n",
    "    df = pd.DataFrame(results)\n",
    "    df.set_index('model_key', inplace=True)\n",
    "    return df\n",
    "\n",
    "def process_directory(directory_path):\n",
    "    df_list = list()\n",
    "    file_path = os.path.join(directory_path, output_file)\n",
    "    df = process_file(file_path)\n",
    "\n",
    "#     # Check for duplicate indexes\n",
    "#     duplicate_indexes = temp.index.duplicated()\n",
    "\n",
    "#     # Filter out rows with duplicate indexes\n",
    "#     unique_df = temp[~duplicate_indexes]\n",
    "#     return unique_df\n",
    "    return df\n",
    "\n",
    "df = process_directory(eval_results_dir)\n",
    "df.to_csv(f'{results_dir}/output_file.csv')\n",
    "df"
   ]
  },
  {
   "cell_type": "code",
   "execution_count": null,
   "metadata": {
    "id": "BP1H1agPbV4v"
   },
   "outputs": [],
   "source": []
  }
 ],
 "metadata": {
  "accelerator": "GPU",
  "colab": {
   "provenance": []
  },
  "gpuClass": "standard",
  "kernelspec": {
   "display_name": "Python 3 (ipykernel)",
   "language": "python",
   "name": "python3"
  },
  "language_info": {
   "codemirror_mode": {
    "name": "ipython",
    "version": 3
   },
   "file_extension": ".py",
   "mimetype": "text/x-python",
   "name": "python",
   "nbconvert_exporter": "python",
   "pygments_lexer": "ipython3",
   "version": "3.10.10"
  }
 },
 "nbformat": 4,
 "nbformat_minor": 1
}
