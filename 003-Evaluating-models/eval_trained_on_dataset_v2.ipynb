{
 "cells": [
  {
   "cell_type": "code",
   "execution_count": 2,
   "metadata": {},
   "outputs": [],
   "source": [
    "import pandas as pd\n",
    "import os\n",
    "import matplotlib.pyplot as plt\n",
    "import subprocess"
   ]
  },
  {
   "cell_type": "code",
   "execution_count": 4,
   "metadata": {
    "colab": {
     "base_uri": "https://localhost:8080/"
    },
    "id": "JSjXQ8eB2D6s",
    "outputId": "3745517f-4e04-4661-8d7e-27112d318abe"
   },
   "outputs": [],
   "source": [
    "train_results_dir = os.getcwd() + \"/../002-Training-models/train_results/\"\n",
    "# !ls {train_results_dir}"
   ]
  },
  {
   "cell_type": "code",
   "execution_count": 5,
   "metadata": {},
   "outputs": [
    {
     "name": "stdout",
     "output_type": "stream",
     "text": [
      "mkdir: trained_on_v1: File exists\n",
      "/Users/florenciavela/Desktop/flor/git/gun-detection/003-Evaluating-models/trained_on_v1\n"
     ]
    }
   ],
   "source": [
    "!mkdir trained_on_v2\n",
    "%cd trained_on_v2\n",
    "!mkdir logs"
   ]
  },
  {
   "cell_type": "code",
   "execution_count": 17,
   "metadata": {},
   "outputs": [],
   "source": [
    "eval_results_dir = os.getcwd()\n",
    "dataset_dir = os.getcwd()+\"/../../datasets/\"\n",
    "output_file_name = \"eval_trained_on_dataset_v2\"\n",
    "output_file = f\"logs/{output_file_name}.txt\""
   ]
  },
  {
   "cell_type": "code",
   "execution_count": 8,
   "metadata": {},
   "outputs": [
    {
     "name": "stdout",
     "output_type": "stream",
     "text": [
      "/Users/florenciavela/Desktop/flor/git/gun-detection/003-Evaluating-models/trained_on_v1\n",
      "YOLOv8 setup complete.\n"
     ]
    }
   ],
   "source": [
    "# Download YOLOv8\n",
    "!pip install ultralytics\n",
    "\n",
    "from IPython import display\n",
    "display.clear_output()\n",
    "\n",
    "%cd {eval_results_dir}\n",
    "!mkdir yolov8\n",
    "\n",
    "from ultralytics import YOLO\n",
    "print('YOLOv8 setup complete.')"
   ]
  },
  {
   "cell_type": "code",
   "execution_count": 12,
   "metadata": {},
   "outputs": [
    {
     "name": "stdout",
     "output_type": "stream",
     "text": [
      "YOLOv7 setup complete.\n"
     ]
    }
   ],
   "source": [
    "# Download YOLOv7\n",
    "%cd {eval_results_dir}\n",
    "!git clone https://github.com/WongKinYiu/yolov7\n",
    "%cd yolov7\n",
    "!pip install -r requirements.txt\n",
    "\n",
    "from IPython import display\n",
    "display.clear_output()\n",
    "print('YOLOv7 setup complete.')"
   ]
  },
  {
   "cell_type": "code",
   "execution_count": 13,
   "metadata": {},
   "outputs": [
    {
     "name": "stdout",
     "output_type": "stream",
     "text": [
      "YOLOv5 setup complete. Using torch 2.0.0 CPU\n"
     ]
    }
   ],
   "source": [
    "# Download YOLOv5\n",
    "%cd {eval_results_dir}\n",
    "!git clone https://github.com/ultralytics/yolov5  # clone repo\n",
    "%cd yolov5\n",
    "\n",
    "!pip install -qr requirements.txt  \n",
    "import torch\n",
    "\n",
    "from IPython import display\n",
    "display.clear_output()\n",
    "print('YOLOv5 setup complete. Using torch %s %s' % (torch.__version__, torch.cuda.get_device_properties(0) if torch.cuda.is_available() else 'CPU'))"
   ]
  },
  {
   "cell_type": "code",
   "execution_count": 18,
   "metadata": {},
   "outputs": [
    {
     "name": "stdout",
     "output_type": "stream",
     "text": [
      "/Users/florenciavela/Desktop/flor/git/gun-detection/003-Evaluating-models/trained_on_v1\n"
     ]
    }
   ],
   "source": [
    "%cd {eval_results_dir}"
   ]
  },
  {
   "cell_type": "markdown",
   "metadata": {},
   "source": [
    "# Evaluate vs original datasets"
   ]
  },
  {
   "cell_type": "code",
   "execution_count": null,
   "metadata": {},
   "outputs": [
    {
     "name": "stdout",
     "output_type": "stream",
     "text": [
      "2/28\n",
      "model_yolov5_tf_no_imgsz_800_epochs_100_batch_16_dataset_v1_loss_SGD_lr_01\n",
      "Model: yolov5\n",
      "TF: no\n",
      "Imgsz: 800\n",
      "Epochs: 100\n",
      "Batch: 16\n",
      "Dataset: v1\n",
      "Executing command...\n",
      "\n",
      "[Errno 2] No such file or directory: 'yolov5'\n",
      "/Users/florenciavela/Desktop/flor/git/gun-detection/003-Evaluating-models/trained_on_v1/yolov5\n",
      "python3 val.py --weights /Users/florenciavela/Desktop/flor/git/gun-detection/003-Evaluating-models/../002-Training-models/train_results/model_yolov5_tf_no_imgsz_800_epochs_100_batch_16_dataset_v1_loss_SGD_lr_01/weights/best.pt --data /Users/florenciavela/Desktop/flor/git/gun-detection/003-Evaluating-models/trained_on_v1/../../datasets/yolov5_original/data.yaml --task test --name model_yolov5_tf_no_imgsz_800_epochs_100_batch_16_dataset_v1_loss_SGD_lr_01\n",
      "\u001b[34m\u001b[1mval: \u001b[0mdata=/Users/florenciavela/Desktop/flor/git/gun-detection/003-Evaluating-models/trained_on_v1/../../datasets/yolov5_original/data.yaml, weights=['/Users/florenciavela/Desktop/flor/git/gun-detection/003-Evaluating-models/../002-Training-models/train_results/model_yolov5_tf_no_imgsz_800_epochs_100_batch_16_dataset_v1_loss_SGD_lr_01/weights/best.pt'], batch_size=32, imgsz=640, conf_thres=0.001, iou_thres=0.6, max_det=300, task=test, device=, workers=8, single_cls=False, augment=False, verbose=False, save_txt=False, save_hybrid=False, save_conf=False, save_json=False, project=runs/val, name=model_yolov5_tf_no_imgsz_800_epochs_100_batch_16_dataset_v1_loss_SGD_lr_01, exist_ok=False, half=False, dnn=False\n",
      "\u001b[31m\u001b[1mrequirements:\u001b[0m Ultralytics requirement ['gitpython>=3.1.30'] not found, attempting AutoUpdate...\n",
      "DEPRECATION: Python 2.7 reached the end of its life on January 1st, 2020. Please upgrade your Python as Python 2.7 is no longer maintained. pip 21.0 will drop support for Python 2.7 in January 2021. More details about Python 2 support in pip can be found at https://pip.pypa.io/en/latest/development/release-process/#python-2-support pip 21.0 will remove support for this functionality.\n",
      "ERROR: Could not find a version that satisfies the requirement gitpython>=3.1.30 (from versions: 0.1.7, 0.2.0b1, 0.3.0b1, 0.3.0b2, 0.3.1b2, 0.3.2rc1, 0.3.2, 0.3.2.1, 0.3.3, 0.3.4, 0.3.5, 0.3.6, 0.3.7, 1.0.0, 1.0.1, 1.0.2, 2.0.0, 2.0.1, 2.0.2, 2.0.3, 2.0.4, 2.0.5, 2.0.6, 2.0.7, 2.0.8, 2.0.9.dev0, 2.0.9.dev1, 2.0.9, 2.1.0, 2.1.1, 2.1.3, 2.1.4, 2.1.5, 2.1.6, 2.1.7, 2.1.8, 2.1.9, 2.1.10, 2.1.11, 2.1.13, 2.1.14, 2.1.15)\n",
      "ERROR: No matching distribution found for gitpython>=3.1.30\n",
      "\u001b[31m\u001b[1mrequirements:\u001b[0m ❌ Command 'pip install --no-cache \"gitpython>=3.1.30\"  ' returned non-zero exit status 1.\n",
      "YOLOv5 🚀 v7.0-210-gdd10481 Python-3.10.10 torch-2.0.0 CPU\n",
      "\n",
      "Fusing layers... \n",
      "custom_YOLOv5s summary: 182 layers, 7249215 parameters, 0 gradients\n",
      "\n",
      "\u001b[34m\u001b[1mtest: \u001b[0mScanning /Users/florenciavela/Desktop/flor/git/gun-detection/datasets/yolov5_original/test/labels.cache... 408 images, 17 backgrounds, 0 corrupt: 100%|██████████| 408/408 [00:00<?, ?it/s]\n",
      "\u001b[34m\u001b[1mtest: \u001b[0mScanning /Users/florenciavela/Desktop/flor/git/gun-detection/datasets/yolov5_original/test/labels.cache... 408 images, 17 backgrounds, 0 corrupt: 100%|██████████| 408/408 [00:00<?, ?it/s]\n",
      "\n",
      "                 Class     Images  Instances          P          R      mAP50   mAP50-95:   0%|          | 0/13 [00:00<?, ?it/s]\n",
      "                 Class     Images  Instances          P          R      mAP50   mAP50-95:   8%|▊         | 1/13 [00:10<02:02, 10.20s/it]\n",
      "                 Class     Images  Instances          P          R      mAP50   mAP50-95:  15%|█▌        | 2/13 [00:19<01:48,  9.85s/it]\n"
     ]
    }
   ],
   "source": [
    "total = len(os.listdir(train_results_dir))\n",
    "counter = 0\n",
    "for folder_name in sorted(os.listdir(train_results_dir)):\n",
    "    counter += 1\n",
    "    if not folder_name.startswith(\"model\"):\n",
    "        continue\n",
    "\n",
    "    folder_path = os.path.join(train_results_dir, folder_name, \"weights\")\n",
    "    print(f\"{counter}/{total}\")\n",
    "\n",
    "    # Split the folder name into variables\n",
    "    variables = folder_name.split('_')\n",
    "\n",
    "    # Extract the required variables\n",
    "    model = variables[1]\n",
    "    tf = variables[3]\n",
    "    imgsz = variables[5]\n",
    "    epochs = variables[7]\n",
    "    batch = variables[9]\n",
    "    dataset = variables[11]\n",
    "    loss = variables[13]\n",
    "    lr = variables[15]\n",
    "    \n",
    "    print(folder_name)\n",
    "    print(\"Model:\", model)\n",
    "    print(\"TF:\", tf)\n",
    "    print(\"Imgsz:\", imgsz)\n",
    "    print(\"Epochs:\", epochs)\n",
    "    print(\"Batch:\", batch)\n",
    "    print(\"Dataset:\", dataset)\n",
    "    print(\"Executing command...\")\n",
    "    print()\n",
    "    \n",
    "    dataset_location = dataset_dir + model + \"_original_v2\"\n",
    "        \n",
    "    command = None\n",
    "    \n",
    "    if model == \"yolov5\" and dataset == \"v2\":\n",
    "        best_pt_path = os.path.join(folder_path, \"best.pt\")\n",
    "        if os.path.exists(best_pt_path):\n",
    "            %cd yolov5\n",
    "            command = f\"python3 val.py --weights {best_pt_path} --data {dataset_location}/data.yaml --task test --name {folder_name}\"\n",
    "            print(command)\n",
    "\n",
    "    elif model == \"yolov7\" and dataset == \"v2\":\n",
    "        best_pt_path = os.path.join(folder_path, \"best.pt\")\n",
    "        if os.path.exists(best_pt_path):\n",
    "            %cd yolov7\n",
    "            command = f\"python3 test.py --weights {best_pt_path} --data {dataset_location}/data.yaml --task test --name {folder_name}\"\n",
    "            print(command)\n",
    "\n",
    "    elif model == \"yolov8\" and dataset == \"v2\":\n",
    "        best_pt_path = os.path.join(folder_path, \"best.pt\")\n",
    "        if os.path.exists(best_pt_path):\n",
    "            %cd yolov8\n",
    "            command = f\"yolo val model={best_pt_path} data={dataset_location}/data.yaml split=test name={folder_name}\"\n",
    "            print(command)\n",
    "\n",
    "    if command:\n",
    "        # Run the command using subprocess.Popen and capture the output\n",
    "        with subprocess.Popen(command, shell=True, stdout=subprocess.PIPE, stderr=subprocess.STDOUT, text=True) as process:\n",
    "            # Open the output file for writing\n",
    "            with open(f\"{eval_results_dir}/{output_file}\", \"a\") as file:\n",
    "                file.write(folder_name)\n",
    "                file.write(f\"\\nModel: {model}\")\n",
    "                file.write(f\"\\nTF: {tf}\")\n",
    "                file.write(f\"\\nImgsz: {imgsz}\")\n",
    "                file.write(f\"\\nEpochs: {epochs}\")\n",
    "                file.write(f\"\\nBatch: {batch}\")\n",
    "                file.write(f\"\\nDataset: {dataset}\")\n",
    "                file.write(f\"\\nLoss: {loss}\")\n",
    "                file.write(f\"\\nLr0: {lr}\\n\")\n",
    "                # Read and display each line of the output as it becomes available\n",
    "                for line in process.stdout:\n",
    "                    print(line, end=\"\")\n",
    "                    file.write(line)\n",
    "        %cd ..\n",
    "\n",
    "    from IPython import display\n",
    "    display.clear_output()\n",
    "    \n",
    "\n",
    "print(\"Executing commands...\", \"DONE!\")\n",
    "print()"
   ]
  },
  {
   "cell_type": "markdown",
   "metadata": {},
   "source": [
    "## Convert the logs to CSV"
   ]
  },
  {
   "cell_type": "code",
   "execution_count": null,
   "metadata": {},
   "outputs": [],
   "source": [
    "!mkdir {eval_results_dir}/output_csvs"
   ]
  },
  {
   "cell_type": "code",
   "execution_count": null,
   "metadata": {},
   "outputs": [],
   "source": [
    "def process_file(file_path):\n",
    "    results = list()\n",
    "    curr_res = dict()\n",
    "\n",
    "    with open(file_path, 'r') as file:\n",
    "        lines = file.readlines()\n",
    "\n",
    "    for line in lines:\n",
    "        if line.startswith(\"Model:\"):\n",
    "            curr_res[\"model\"] = line.split()[1]\n",
    "        elif line.startswith(\"TF:\"):\n",
    "            curr_res[\"tf\"] = line.split()[1]\n",
    "        elif line.startswith(\"Imgsz:\"):\n",
    "            curr_res[\"imgsz\"] = line.split()[1]\n",
    "        elif line.startswith(\"Epochs:\"):\n",
    "            curr_res[\"epochs\"] = line.split()[1]\n",
    "        elif line.startswith(\"Batch:\"):\n",
    "            curr_res[\"batch\"] = line.split()[1]\n",
    "        elif line.startswith(\"Dataset:\"):\n",
    "            curr_res[\"dataset\"] = line.split()[1]\n",
    "        elif line.startswith(\"Loss:\"):\n",
    "            curr_res[\"loss_function\"] = line.split()[1]\n",
    "        elif line.startswith(\"Lr0:\"):\n",
    "            try:\n",
    "                curr_res[\"lr0\"] = float(\"0.\"+line.split()[1])\n",
    "            except:\n",
    "                curr_res[\"lr0\"] = float(line.split()[1])\n",
    "            \n",
    "        if line.strip(\" \").startswith(\"all\"):\n",
    "            P, R, mAP5, mAP95 = line.split()[3:]\n",
    "            curr_res[\"all_P\"] = P\n",
    "            curr_res[\"all_R\"] = R\n",
    "            curr_res[\"all_F1\"] = (float(P) * float(R)) / (float(P) + float(R))\n",
    "            curr_res[\"all_mAP@.5\"] = mAP5\n",
    "            curr_res[\"all_mAP@.5:.95\"] = mAP95\n",
    "\n",
    "        elif line.strip(\" \").startswith(\"knife\"):\n",
    "            P, R, mAP5, mAP95 = line.split()[3:]\n",
    "            curr_res[\"knife_P\"] = P\n",
    "            curr_res[\"knife_R\"] = R\n",
    "            curr_res[\"knife_F1\"] = (float(P) * float(R)) / (float(P) + float(R))\n",
    "            curr_res[\"knife_mAP@.5\"] = mAP5\n",
    "            curr_res[\"knife_mAP@.5:.95\"] = mAP95\n",
    "\n",
    "        elif line.strip(\" \").startswith(\"pistol\") or line.strip(\" \").startswith(\"gun\"):\n",
    "            P, R, mAP5, mAP95 = line.split()[3:]\n",
    "            curr_res[\"pistol_P\"] = P\n",
    "            curr_res[\"pistol_R\"] = R\n",
    "            curr_res[\"pistol_F1\"] = (float(P) * float(R)) / (float(P) + float(R))\n",
    "            curr_res[\"pistol_mAP@.5\"] = mAP5\n",
    "            curr_res[\"pistol_mAP@.5:.95\"] = mAP95\n",
    "\n",
    "        elif line.strip(\" \").startswith(\"Results saved to\"):\n",
    "            model_key = line.split(\"/\")[-1].replace('\\x1b[0m', '').replace('\\n', '')\n",
    "            model_info = model_key.split(\"_\")\n",
    "\n",
    "            curr_res[\"model_key\"] = model_key\n",
    "\n",
    "            results.append(curr_res)\n",
    "            curr_res = dict()\n",
    "\n",
    "    df = pd.DataFrame(results)\n",
    "    df.set_index('model_key', inplace=True)\n",
    "    return df\n",
    "\n",
    "\n",
    "file_path = os.path.join(eval_results_dir, output_file)\n",
    "df = process_file(file_path)\n",
    "df.to_csv(f'{eval_results_dir}/output_csvs/{output_file_name}.csv')\n",
    "df"
   ]
  }
 ],
 "metadata": {
  "accelerator": "GPU",
  "colab": {
   "provenance": []
  },
  "gpuClass": "standard",
  "kernelspec": {
   "display_name": "Python 3 (ipykernel)",
   "language": "python",
   "name": "python3"
  },
  "language_info": {
   "codemirror_mode": {
    "name": "ipython",
    "version": 3
   },
   "file_extension": ".py",
   "mimetype": "text/x-python",
   "name": "python",
   "nbconvert_exporter": "python",
   "pygments_lexer": "ipython3",
   "version": "3.10.10"
  }
 },
 "nbformat": 4,
 "nbformat_minor": 1
}
