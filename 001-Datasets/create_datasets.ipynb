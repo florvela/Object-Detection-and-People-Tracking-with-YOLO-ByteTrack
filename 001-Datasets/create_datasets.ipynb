{
 "cells": [
  {
   "cell_type": "code",
   "execution_count": 2,
   "metadata": {},
   "outputs": [
    {
     "name": "stdout",
     "output_type": "stream",
     "text": [
      "/Users/florenciavela/Desktop/flor/git/gun-detection/datasets\n"
     ]
    }
   ],
   "source": [
    "# !mkdir ../datasets\n",
    "datasets_folder = \"../datasets\"\n",
    "%cd {datasets_folder}"
   ]
  },
  {
   "cell_type": "code",
   "execution_count": 3,
   "metadata": {
    "id": "UaU6Mfq6_5YI"
   },
   "outputs": [],
   "source": [
    "from config import ROBOFLOW_API_KEY, ROBOFLOW_PROJECT_NAME, ROBOFLOW_WORKSPACE, ROBOFLOW_PROJECT_VERSION\n",
    "from config import ROBOFLOW_PROJECT_NAME_v2, ROBOFLOW_WORKSPACE_v2, ROBOFLOW_PROJECT_VERSION_v2"
   ]
  },
  {
   "cell_type": "code",
   "execution_count": 4,
   "metadata": {
    "colab": {
     "base_uri": "https://localhost:8080/"
    },
    "id": "N7BCh3fHAiDh",
    "outputId": "4bc3091b-8a14-49b0-9039-a4d655e7d6a8"
   },
   "outputs": [],
   "source": [
    "!pip3 install roboflow --quiet\n",
    "from roboflow import Roboflow"
   ]
  },
  {
   "cell_type": "code",
   "execution_count": 5,
   "metadata": {
    "id": "9GO8gCoq136a"
   },
   "outputs": [],
   "source": [
    "rf = Roboflow(api_key=ROBOFLOW_API_KEY)"
   ]
  },
  {
   "cell_type": "code",
   "execution_count": 6,
   "metadata": {
    "colab": {
     "base_uri": "https://localhost:8080/"
    },
    "id": "Uog7jAy0C9zd",
    "outputId": "d3b03d9b-c0c7-4787-9778-1de85bd2aff6"
   },
   "outputs": [
    {
     "name": "stdout",
     "output_type": "stream",
     "text": [
      "loading Roboflow workspace...\n",
      "loading Roboflow project...\n"
     ]
    }
   ],
   "source": [
    "project = rf.workspace(ROBOFLOW_WORKSPACE_v2).project(ROBOFLOW_PROJECT_NAME_v2)"
   ]
  },
  {
   "cell_type": "code",
   "execution_count": 7,
   "metadata": {},
   "outputs": [],
   "source": [
    "dataset = project.version(ROBOFLOW_PROJECT_VERSION_v2).download(\"yolov8\", location=\"yolov8_original_v2\")\n",
    "from IPython import display\n",
    "display.clear_output()"
   ]
  },
  {
   "cell_type": "code",
   "execution_count": 8,
   "metadata": {},
   "outputs": [],
   "source": [
    "dataset = project.version(ROBOFLOW_PROJECT_VERSION_v2).download(\"yolov7\", location=\"yolov7_original_v2\")\n",
    "from IPython import display\n",
    "display.clear_output()"
   ]
  },
  {
   "cell_type": "code",
   "execution_count": 9,
   "metadata": {},
   "outputs": [],
   "source": [
    "dataset = project.version(ROBOFLOW_PROJECT_VERSION_v2).download(\"yolov5\", location=\"yolov5_original_v2\")\n",
    "from IPython import display\n",
    "display.clear_output()"
   ]
  },
  {
   "cell_type": "code",
   "execution_count": 5,
   "metadata": {
    "colab": {
     "base_uri": "https://localhost:8080/"
    },
    "id": "Uog7jAy0C9zd",
    "outputId": "d3b03d9b-c0c7-4787-9778-1de85bd2aff6"
   },
   "outputs": [
    {
     "name": "stdout",
     "output_type": "stream",
     "text": [
      "loading Roboflow workspace...\n",
      "loading Roboflow project...\n"
     ]
    }
   ],
   "source": [
    "project = rf.workspace(ROBOFLOW_WORKSPACE).project(ROBOFLOW_PROJECT_NAME)"
   ]
  },
  {
   "cell_type": "code",
   "execution_count": 6,
   "metadata": {},
   "outputs": [],
   "source": [
    "dataset = project.version(ROBOFLOW_PROJECT_VERSION).download(\"yolov8\", location=\"yolov8_original\")\n",
    "from IPython import display\n",
    "display.clear_output()"
   ]
  },
  {
   "cell_type": "code",
   "execution_count": null,
   "metadata": {},
   "outputs": [],
   "source": [
    "dataset = project.version(ROBOFLOW_PROJECT_VERSION).download(\"yolov7\", location=\"yolov7_original\")\n",
    "from IPython import display\n",
    "display.clear_output()"
   ]
  },
  {
   "cell_type": "code",
   "execution_count": null,
   "metadata": {},
   "outputs": [],
   "source": [
    "dataset = project.version(ROBOFLOW_PROJECT_VERSION).download(\"yolov5\", location=\"yolov5_original\")\n",
    "from IPython import display\n",
    "display.clear_output()"
   ]
  },
  {
   "cell_type": "code",
   "execution_count": 9,
   "metadata": {},
   "outputs": [],
   "source": [
    "!cp -r yolov8_original yolov8_for_v1\n",
    "!cp -r yolov5_original yolov5_for_v1\n",
    "!cp -r yolov7_original yolov7_for_v1"
   ]
  },
  {
   "cell_type": "code",
   "execution_count": 10,
   "metadata": {},
   "outputs": [],
   "source": [
    "import os\n",
    "\n",
    "def swap_first_zero_and_one(line):\n",
    "    first_zero_index = line.find('0')\n",
    "    first_one_index = line.find('1')\n",
    "\n",
    "    if first_zero_index < first_one_index or first_one_index == -1:\n",
    "        line = line[:first_zero_index] + '1' + line[first_zero_index + 1:]\n",
    "    else:\n",
    "        line = line[:first_one_index] + '0' + line[first_one_index + 1:]\n",
    "\n",
    "    return line\n",
    "\n",
    "def process_file(file_path):\n",
    "    with open(file_path, 'r') as file:\n",
    "        lines = file.readlines()\n",
    "\n",
    "    with open(file_path, 'w') as file:\n",
    "        for line in lines:\n",
    "            processed_line = swap_first_zero_and_one(line)\n",
    "            file.write(processed_line)\n",
    "\n",
    "def process_directory(directory_path):\n",
    "    for root, _, files in os.walk(directory_path):\n",
    "        for file in files:\n",
    "            file_path = os.path.join(root, file)\n",
    "            print(file_path)\n",
    "            process_file(file_path)\n",
    "\n",
    "# para que los entrenados con el modelo v1 puedan testear\n",
    "process_directory(\"yolov5_for_v1/valid/labels\")\n",
    "process_directory(\"yolov7_for_v1/valid/labels\")\n",
    "process_directory(\"yolov8_for_v1/valid/labels\")"
   ]
  },
  {
   "cell_type": "code",
   "execution_count": 11,
   "metadata": {},
   "outputs": [],
   "source": [
    "!cp -r yolov8_original yolov8_original_no_empty\n",
    "!cp -r yolov5_original yolov5_original_no_empty\n",
    "!cp -r yolov7_original yolov7_original_no_empty\n",
    "!cp -r yolov8_for_v1 yolov8_for_v1_no_empty\n",
    "!cp -r yolov5_for_v1 yolov5_for_v1_no_empty\n",
    "!cp -r yolov7_for_v1 yolov7_for_v1_no_empty"
   ]
  },
  {
   "cell_type": "code",
   "execution_count": 12,
   "metadata": {},
   "outputs": [],
   "source": [
    "import os\n",
    "\n",
    "def delete_images_without_labels(labels_dir, images_dir):\n",
    "    labels = os.listdir(labels_dir)\n",
    "    images = os.listdir(images_dir)\n",
    "\n",
    "    files_to_delete = list()\n",
    "    counter = 0\n",
    "    for filename in labels:\n",
    "        file_path = os.path.join(labels_dir, filename)\n",
    "\n",
    "        # Check if the file is empty\n",
    "        if os.path.getsize(file_path) == 0:\n",
    "            files_to_delete.append(filename)\n",
    "            counter += 1\n",
    "\n",
    "    for filename in images:\n",
    "        if filename.strip(\".jpg\")+\".txt\" in files_to_delete:\n",
    "            os.remove(os.path.join(images_dir, filename))\n",
    "            os.remove(os.path.join(labels_dir, filename.strip(\".jpg\")+\".txt\"))\n",
    "\n",
    "    print(f\"deleted a total of {counter} images\\n\")"
   ]
  },
  {
   "cell_type": "code",
   "execution_count": 13,
   "metadata": {},
   "outputs": [],
   "source": [
    "!ls"
   ]
  },
  {
   "cell_type": "code",
   "execution_count": 14,
   "metadata": {},
   "outputs": [],
   "source": [
    "labels_dir = \"yolov8_original_no_empty/valid/labels\"\n",
    "images_dir = \"yolov8_original_no_empty/valid/images\"\n",
    "delete_images_without_labels(labels_dir, images_dir)\n",
    "\n",
    "labels_dir = \"yolov5_original_no_empty/valid/labels\"\n",
    "images_dir = \"yolov5_original_no_empty/valid/images\"\n",
    "delete_images_without_labels(labels_dir, images_dir)\n",
    "\n",
    "labels_dir = \"yolov7_original_no_empty/valid/labels\"\n",
    "images_dir = \"yolov7_original_no_empty/valid/images\"\n",
    "delete_images_without_labels(labels_dir, images_dir)"
   ]
  },
  {
   "cell_type": "code",
   "execution_count": 15,
   "metadata": {},
   "outputs": [],
   "source": [
    "labels_dir = \"yolov8_for_v1_no_empty/valid/labels\"\n",
    "images_dir = \"yolov8_for_v1_no_empty/valid/images\"\n",
    "delete_images_without_labels(labels_dir, images_dir)\n",
    "\n",
    "labels_dir = \"yolov5_for_v1_no_empty/valid/labels\"\n",
    "images_dir = \"yolov5_for_v1_no_empty/valid/images\"\n",
    "delete_images_without_labels(labels_dir, images_dir)\n",
    "\n",
    "labels_dir = \"yolov7_for_v1_no_empty/valid/labels\"\n",
    "images_dir = \"yolov7_for_v1_no_empty/valid/images\"\n",
    "delete_images_without_labels(labels_dir, images_dir)"
   ]
  },
  {
   "cell_type": "code",
   "execution_count": null,
   "metadata": {},
   "outputs": [],
   "source": []
  }
 ],
 "metadata": {
  "colab": {
   "provenance": []
  },
  "kernelspec": {
   "display_name": "Python 3 (ipykernel)",
   "language": "python",
   "name": "python3"
  },
  "language_info": {
   "codemirror_mode": {
    "name": "ipython",
    "version": 3
   },
   "file_extension": ".py",
   "mimetype": "text/x-python",
   "name": "python",
   "nbconvert_exporter": "python",
   "pygments_lexer": "ipython3",
   "version": "3.10.10"
  }
 },
 "nbformat": 4,
 "nbformat_minor": 1
}
