{
  "cells": [
    {
      "cell_type": "code",
      "execution_count": null,
      "metadata": {
        "id": "YENfXiaH_0UQ"
      },
      "outputs": [],
      "source": [
        "from google.colab import drive\n",
        "drive.mount('/content/drive', force_remount=True)"
      ]
    },
    {
      "cell_type": "code",
      "execution_count": null,
      "metadata": {
        "colab": {
          "background_save": true
        },
        "id": "YexvQfj2AJNK"
      },
      "outputs": [],
      "source": [
        "drive_folder = \"/content/drive/MyDrive/trabajo_final_CEIA/train_models/datasets\"\n",
        "%cd {drive_folder}"
      ]
    },
    {
      "cell_type": "code",
      "execution_count": null,
      "metadata": {
        "id": "UaU6Mfq6_5YI"
      },
      "outputs": [],
      "source": [
        "from config import ROBOFLOW_API_KEY, ROBOFLOW_PROJECT_NAME, ROBOFLOW_WORKSPACE, ROBOFLOW_PROJECT_VERSION"
      ]
    },
    {
      "cell_type": "code",
      "execution_count": null,
      "metadata": {
        "colab": {
          "base_uri": "https://localhost:8080/"
        },
        "id": "N7BCh3fHAiDh",
        "outputId": "4bc3091b-8a14-49b0-9039-a4d655e7d6a8"
      },
      "outputs": [
        {
          "name": "stdout",
          "output_type": "stream",
          "text": [
            "\u001b[?25l     \u001b[90m━━━━━━━━━━━━━━━━━━━━━━━━━━━━━━━━━━━━━━━━\u001b[0m \u001b[32m0.0/57.4 kB\u001b[0m \u001b[31m?\u001b[0m eta \u001b[36m-:--:--\u001b[0m\r\u001b[2K     \u001b[90m━━━━━━━━━━━━━━━━━━━━━━━━━━━━━━━━━━━━━━━━\u001b[0m \u001b[32m57.4/57.4 kB\u001b[0m \u001b[31m2.2 MB/s\u001b[0m eta \u001b[36m0:00:00\u001b[0m\n",
            "\u001b[?25h\u001b[?25l     \u001b[90m━━━━━━━━━━━━━━━━━━━━━━━━━━━━━━━━━━━━━━━━\u001b[0m \u001b[32m0.0/155.3 kB\u001b[0m \u001b[31m?\u001b[0m eta \u001b[36m-:--:--\u001b[0m\r\u001b[2K     \u001b[90m━━━━━━━━━━━━━━━━━━━━━━━━━━━━━━━━━━━━━━\u001b[0m \u001b[32m155.3/155.3 kB\u001b[0m \u001b[31m10.8 MB/s\u001b[0m eta \u001b[36m0:00:00\u001b[0m\n",
            "\u001b[2K     \u001b[90m━━━━━━━━━━━━━━━━━━━━━━━━━━━━━━━━━━━━━━━━\u001b[0m \u001b[32m58.8/58.8 kB\u001b[0m \u001b[31m5.8 MB/s\u001b[0m eta \u001b[36m0:00:00\u001b[0m\n",
            "\u001b[2K     \u001b[90m━━━━━━━━━━━━━━━━━━━━━━━━━━━━━━━━━━━━━━━━\u001b[0m \u001b[32m67.8/67.8 kB\u001b[0m \u001b[31m4.9 MB/s\u001b[0m eta \u001b[36m0:00:00\u001b[0m\n",
            "\u001b[2K     \u001b[90m━━━━━━━━━━━━━━━━━━━━━━━━━━━━━━━━━━━━━━━━\u001b[0m \u001b[32m48.5/48.5 kB\u001b[0m \u001b[31m5.2 MB/s\u001b[0m eta \u001b[36m0:00:00\u001b[0m\n",
            "\u001b[?25h  Preparing metadata (setup.py) ... \u001b[?25l\u001b[?25hdone\n",
            "\u001b[2K     \u001b[90m━━━━━━━━━━━━━━━━━━━━━━━━━━━━━━━━━━━━━━━━\u001b[0m \u001b[32m54.5/54.5 kB\u001b[0m \u001b[31m6.9 MB/s\u001b[0m eta \u001b[36m0:00:00\u001b[0m\n",
            "\u001b[2K     \u001b[90m━━━━━━━━━━━━━━━━━━━━━━━━━━━━━━━━━━━━━━━━\u001b[0m \u001b[32m3.1/3.1 MB\u001b[0m \u001b[31m91.5 MB/s\u001b[0m eta \u001b[36m0:00:00\u001b[0m\n",
            "\u001b[?25h  Building wheel for wget (setup.py) ... \u001b[?25l\u001b[?25hdone\n"
          ]
        }
      ],
      "source": [
        "!pip install roboflow --quiet\n",
        "from roboflow import Roboflow"
      ]
    },
    {
      "cell_type": "code",
      "execution_count": null,
      "metadata": {
        "id": "9GO8gCoq136a"
      },
      "outputs": [],
      "source": [
        "rf = Roboflow(api_key=ROBOFLOW_API_KEY)"
      ]
    },
    {
      "cell_type": "code",
      "execution_count": null,
      "metadata": {
        "colab": {
          "base_uri": "https://localhost:8080/"
        },
        "id": "Uog7jAy0C9zd",
        "outputId": "d3b03d9b-c0c7-4787-9778-1de85bd2aff6"
      },
      "outputs": [
        {
          "name": "stdout",
          "output_type": "stream",
          "text": [
            "loading Roboflow workspace...\n",
            "loading Roboflow project...\n"
          ]
        }
      ],
      "source": [
        "project = rf.workspace(ROBOFLOW_WORKSPACE).project(ROBOFLOW_PROJECT_NAME)"
      ]
    },
    {
      "cell_type": "code",
      "execution_count": null,
      "metadata": {
        "colab": {
          "base_uri": "https://localhost:8080/"
        },
        "id": "fqzRuW7qAFCC",
        "outputId": "1b725166-dda5-4e55-b1ac-029c305f3aac"
      },
      "outputs": [
        {
          "name": "stdout",
          "output_type": "stream",
          "text": [
            "[WARNING] we noticed you are downloading a `yolov8` datasets but you don't have `ultralytics` installed. Roboflow `.deploy` supports only models trained with `ultralytics<=8.0.20`, to intall it `pip install ultralytics<=8.0.20`.\n",
            "Downloading Dataset Version Zip in /content/drive/MyDrive/trabajo_final_CEIA/train_models/datasets/yolov8 to yolov8: 100% [295615162 / 295615162] bytes\n"
          ]
        },
        {
          "name": "stderr",
          "output_type": "stream",
          "text": [
            "Extracting Dataset Version Zip to /content/drive/MyDrive/trabajo_final_CEIA/train_models/datasets/yolov8 in yolov8:: 100%|██████████| 8142/8142 [01:09<00:00, 116.44it/s]\n"
          ]
        }
      ],
      "source": [
        "dataset = project.version(ROBOFLOW_PROJECT_VERSION).download(\"yolov8\", location=drive_folder+\"/yolov8\")"
      ]
    },
    {
      "cell_type": "code",
      "execution_count": null,
      "metadata": {
        "colab": {
          "base_uri": "https://localhost:8080/"
        },
        "id": "yiI0tu8mBpLv",
        "outputId": "1a408d99-0851-478a-e9ec-d47bce0850ed"
      },
      "outputs": [
        {
          "name": "stdout",
          "output_type": "stream",
          "text": [
            "Downloading Dataset Version Zip in /content/drive/MyDrive/trabajo_final_CEIA/train_models/datasets/yolov7 to yolov7pytorch: 100% [295614720 / 295614720] bytes\n"
          ]
        },
        {
          "name": "stderr",
          "output_type": "stream",
          "text": [
            "Extracting Dataset Version Zip to /content/drive/MyDrive/trabajo_final_CEIA/train_models/datasets/yolov7 in yolov7pytorch:: 100%|██████████| 8142/8142 [34:33<00:00,  3.93it/s]\n"
          ]
        }
      ],
      "source": [
        "dataset = project.version(ROBOFLOW_PROJECT_VERSION).download(\"yolov7\", location=drive_folder+\"/yolov7\")"
      ]
    },
    {
      "cell_type": "code",
      "execution_count": null,
      "metadata": {
        "colab": {
          "base_uri": "https://localhost:8080/"
        },
        "id": "b35q-Va67D3h",
        "outputId": "2e31d7d1-dbd8-471f-adfd-2e32506cdec0"
      },
      "outputs": [
        {
          "name": "stdout",
          "output_type": "stream",
          "text": [
            "Downloading Dataset Version Zip in /content/drive/MyDrive/trabajo_final_CEIA/train_models/datasets/yolov5 to yolov5pytorch: 98% [291184640 / 295614391] bytes"
          ]
        },
        {
          "name": "stderr",
          "output_type": "stream",
          "text": [
            "Extracting Dataset Version Zip to /content/drive/MyDrive/trabajo_final_CEIA/train_models/datasets/yolov5 in yolov5pytorch:: 100%|██████████| 8142/8142 [01:02<00:00, 129.76it/s]\n"
          ]
        }
      ],
      "source": [
        "dataset = project.version(ROBOFLOW_PROJECT_VERSION).download(\"yolov5\", location=drive_folder+\"/yolov5\")"
      ]
    },
    {
      "cell_type": "code",
      "execution_count": null,
      "metadata": {
        "colab": {
          "base_uri": "https://localhost:8080/"
        },
        "id": "pNGPvarwFUY2",
        "outputId": "26bf4bbc-dc8c-4241-c064-dc04ccffe397"
      },
      "outputs": [
        {
          "name": "stdout",
          "output_type": "stream",
          "text": [
            "config.py  create_datasets.ipynb  \u001b[0m\u001b[01;34m__pycache__\u001b[0m/  \u001b[01;34myolov5\u001b[0m/  \u001b[01;34myolov7\u001b[0m/  \u001b[01;34myolov8\u001b[0m/\n"
          ]
        }
      ],
      "source": [
        "%ls {drive_folder}"
      ]
    },
    {
      "cell_type": "code",
      "execution_count": null,
      "metadata": {
        "colab": {
          "base_uri": "https://localhost:8080/"
        },
        "id": "pUHZrslDFWWL",
        "outputId": "2f968f21-d6c8-4129-fefd-ff71ab87f71f"
      },
      "outputs": [
        {
          "name": "stdout",
          "output_type": "stream",
          "text": [
            "names:\n",
            "- knife\n",
            "- pistol\n",
            "nc: 2\n",
            "train: /content/drive/MyDrive/trabajo_final_CEIA/train_models/datasets/yolov7/train/images\n",
            "val: /content/drive/MyDrive/trabajo_final_CEIA/train_models/datasets/yolov7/valid/images\n"
          ]
        }
      ],
      "source": [
        "%cat {drive_folder}/yolov7/data.yaml"
      ]
    },
    {
      "cell_type": "markdown",
      "metadata": {
        "id": "_lBFv4qMYt7m"
      },
      "source": [
        "## Para las pruebas"
      ]
    },
    {
      "cell_type": "code",
      "execution_count": null,
      "metadata": {
        "colab": {
          "base_uri": "https://localhost:8080/"
        },
        "id": "VjKL59M-oTSt",
        "outputId": "7d2479df-32cd-4066-c64b-83c871b013c6"
      },
      "outputs": [
        {
          "name": "stdout",
          "output_type": "stream",
          "text": [
            "loading Roboflow workspace...\n",
            "loading Roboflow project...\n",
            "[WARNING] we noticed you are downloading a `yolov8` datasets but you don't have `ultralytics` installed. Roboflow `.deploy` supports only models trained with `ultralytics==8.0.134`, to intall it `pip install ultralytics==8.0.134`.\n",
            "Downloading Dataset Version Zip in /content/drive/MyDrive/trabajo_final_CEIA/train_models/datasets/yolov8_big to yolov8: 99% [282034176 / 282099829] bytes"
          ]
        },
        {
          "name": "stderr",
          "output_type": "stream",
          "text": [
            "Extracting Dataset Version Zip to /content/drive/MyDrive/trabajo_final_CEIA/train_models/datasets/yolov8_big in yolov8:: 100%|██████████| 19682/19682 [02:19<00:00, 141.40it/s]\n"
          ]
        }
      ],
      "source": [
        "project = rf.workspace(\"crime-detection\").project(\"guns_n_knives-h4bky\")\n",
        "dataset = project.version(3).download(\"yolov8\", location=drive_folder+\"/yolov8_big\")"
      ]
    },
    {
      "cell_type": "code",
      "execution_count": null,
      "metadata": {
        "colab": {
          "base_uri": "https://localhost:8080/"
        },
        "id": "j22r20ogd9ux",
        "outputId": "0789b211-2ed3-4d3a-ae59-f6d8cde0b85f"
      },
      "outputs": [
        {
          "name": "stdout",
          "output_type": "stream",
          "text": [
            "loading Roboflow workspace...\n",
            "loading Roboflow project...\n",
            "Downloading Dataset Version Zip in /content/drive/MyDrive/trabajo_final_CEIA/train_models/datasets/yolov7_big to yolov7pytorch: 100% [282099836 / 282099836] bytes\n"
          ]
        },
        {
          "name": "stderr",
          "output_type": "stream",
          "text": [
            "Extracting Dataset Version Zip to /content/drive/MyDrive/trabajo_final_CEIA/train_models/datasets/yolov7_big in yolov7pytorch:: 100%|██████████| 19682/19682 [02:20<00:00, 140.23it/s]\n"
          ]
        }
      ],
      "source": [
        "project = rf.workspace(\"crime-detection\").project(\"guns_n_knives-h4bky\")\n",
        "dataset = project.version(3).download(\"yolov7\", location=drive_folder+\"/yolov7_big\")"
      ]
    },
    {
      "cell_type": "code",
      "execution_count": null,
      "metadata": {
        "colab": {
          "base_uri": "https://localhost:8080/"
        },
        "id": "XzYu7IMdfxpl",
        "outputId": "083346c0-31d2-480f-8ee2-5f47f5c6508b"
      },
      "outputs": [
        {
          "name": "stdout",
          "output_type": "stream",
          "text": [
            "loading Roboflow workspace...\n",
            "loading Roboflow project...\n",
            "Downloading Dataset Version Zip in /content/drive/MyDrive/trabajo_final_CEIA/train_models/datasets/yolov5_big to yolov5pytorch: 100% [282099823 / 282099823] bytes\n"
          ]
        },
        {
          "name": "stderr",
          "output_type": "stream",
          "text": [
            "Extracting Dataset Version Zip to /content/drive/MyDrive/trabajo_final_CEIA/train_models/datasets/yolov5_big in yolov5pytorch:: 100%|██████████| 19682/19682 [02:28<00:00, 132.27it/s]\n"
          ]
        }
      ],
      "source": [
        "project = rf.workspace(\"crime-detection\").project(\"guns_n_knives-h4bky\")\n",
        "dataset = project.version(3).download(\"yolov5\", location=drive_folder+\"/yolov5_big\")"
      ]
    }
  ],
  "metadata": {
    "colab": {
      "provenance": []
    },
    "kernelspec": {
      "display_name": "Python 3",
      "name": "python3"
    },
    "language_info": {
      "name": "python"
    }
  },
  "nbformat": 4,
  "nbformat_minor": 0
}