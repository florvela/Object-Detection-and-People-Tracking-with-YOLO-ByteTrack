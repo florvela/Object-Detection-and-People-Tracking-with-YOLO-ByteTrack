{
 "cells": [
  {
   "cell_type": "code",
   "execution_count": 2,
   "metadata": {
    "colab": {
     "base_uri": "https://localhost:8080/"
    },
    "executionInfo": {
     "elapsed": 17204,
     "status": "ok",
     "timestamp": 1687721552310,
     "user": {
      "displayName": "Florencia Vela",
      "userId": "10969127478423233811"
     },
     "user_tz": 180
    },
    "id": "YENfXiaH_0UQ",
    "outputId": "4e676afc-06ba-47a2-b7e4-37ce7c2bce6c"
   },
   "outputs": [
    {
     "name": "stdout",
     "output_type": "stream",
     "text": [
      "/Users/florenciavela/Desktop/flor/git/gun-detection\n"
     ]
    }
   ],
   "source": [
    "import os\n",
    "HOME = os.path.split(os.getcwd())[0]\n",
    "print(HOME)"
   ]
  },
  {
   "cell_type": "code",
   "execution_count": 3,
   "metadata": {
    "colab": {
     "base_uri": "https://localhost:8080/"
    },
    "executionInfo": {
     "elapsed": 428,
     "status": "ok",
     "timestamp": 1687721552735,
     "user": {
      "displayName": "Florencia Vela",
      "userId": "10969127478423233811"
     },
     "user_tz": 180
    },
    "id": "YexvQfj2AJNK",
    "outputId": "00cdd238-8bf5-4faa-8e0b-10ed99700e88"
   },
   "outputs": [
    {
     "name": "stdout",
     "output_type": "stream",
     "text": [
      "/Users/florenciavela/Desktop/flor/git/gun-detection\n"
     ]
    }
   ],
   "source": [
    "%cd {HOME}\n",
    "if not os.path.exists('datasets'):\n",
    "    os.makedirs('datasets')"
   ]
  },
  {
   "cell_type": "code",
   "execution_count": 7,
   "metadata": {
    "executionInfo": {
     "elapsed": 1587,
     "status": "ok",
     "timestamp": 1687721554320,
     "user": {
      "displayName": "Florencia Vela",
      "userId": "10969127478423233811"
     },
     "user_tz": 180
    },
    "id": "UaU6Mfq6_5YI"
   },
   "outputs": [],
   "source": [
    "from config import ROBOFLOW_API_KEY, ROBOFLOW_PROJECT_NAME, ROBOFLOW_WORKSPACE, ROBOFLOW_PROJECT_VERSION"
   ]
  },
  {
   "cell_type": "code",
   "execution_count": 11,
   "metadata": {
    "colab": {
     "base_uri": "https://localhost:8080/"
    },
    "executionInfo": {
     "elapsed": 13354,
     "status": "ok",
     "timestamp": 1687721580977,
     "user": {
      "displayName": "Florencia Vela",
      "userId": "10969127478423233811"
     },
     "user_tz": 180
    },
    "id": "N7BCh3fHAiDh",
    "outputId": "0c76e3c2-18fb-487a-b005-60a613b92e9a"
   },
   "outputs": [
    {
     "name": "stdout",
     "output_type": "stream",
     "text": [
      "Requirement already satisfied: pip in /Users/florenciavela/anaconda3/lib/python3.10/site-packages (23.1.1)\n",
      "Collecting pip\n",
      "  Using cached pip-23.1.2-py3-none-any.whl (2.1 MB)\n",
      "Installing collected packages: pip\n",
      "  Attempting uninstall: pip\n",
      "    Found existing installation: pip 23.1.1\n",
      "    Uninstalling pip-23.1.1:\n",
      "      Successfully uninstalled pip-23.1.1\n",
      "Successfully installed pip-23.1.2\n"
     ]
    }
   ],
   "source": [
    "!pip install --upgrade pip\n",
    "!pip install roboflow --quiet\n",
    "from roboflow import Roboflow"
   ]
  },
  {
   "cell_type": "code",
   "execution_count": 12,
   "metadata": {
    "executionInfo": {
     "elapsed": 4,
     "status": "ok",
     "timestamp": 1687721580978,
     "user": {
      "displayName": "Florencia Vela",
      "userId": "10969127478423233811"
     },
     "user_tz": 180
    },
    "id": "9GO8gCoq136a"
   },
   "outputs": [],
   "source": [
    "rf = Roboflow(api_key=ROBOFLOW_API_KEY)"
   ]
  },
  {
   "cell_type": "code",
   "execution_count": 13,
   "metadata": {
    "colab": {
     "base_uri": "https://localhost:8080/"
    },
    "executionInfo": {
     "elapsed": 393,
     "status": "ok",
     "timestamp": 1687721603461,
     "user": {
      "displayName": "Florencia Vela",
      "userId": "10969127478423233811"
     },
     "user_tz": 180
    },
    "id": "Uog7jAy0C9zd",
    "outputId": "f9e666fd-bbf0-48b7-aad7-94d6bf6cea99"
   },
   "outputs": [
    {
     "name": "stdout",
     "output_type": "stream",
     "text": [
      "loading Roboflow workspace...\n",
      "loading Roboflow project...\n"
     ]
    }
   ],
   "source": [
    "project = rf.workspace(ROBOFLOW_WORKSPACE).project(ROBOFLOW_PROJECT_NAME)"
   ]
  },
  {
   "cell_type": "code",
   "execution_count": 14,
   "metadata": {
    "colab": {
     "base_uri": "https://localhost:8080/"
    },
    "executionInfo": {
     "elapsed": 146702,
     "status": "ok",
     "timestamp": 1687721752927,
     "user": {
      "displayName": "Florencia Vela",
      "userId": "10969127478423233811"
     },
     "user_tz": 180
    },
    "id": "fqzRuW7qAFCC",
    "outputId": "1b725166-dda5-4e55-b1ac-029c305f3aac"
   },
   "outputs": [
    {
     "name": "stdout",
     "output_type": "stream",
     "text": [
      "Dependency ultralytics<=8.0.20 is required but found version=8.0.124, to fix: `pip install ultralytics<=8.0.20`\n",
      "Downloading Dataset Version Zip in /Users/florenciavela/Desktop/flor/git/gun-detection/datasets/yolov8 to yolov8: 100% [295615162 / 295615162] bytes\n"
     ]
    },
    {
     "name": "stderr",
     "output_type": "stream",
     "text": [
      "Extracting Dataset Version Zip to /Users/florenciavela/Desktop/flor/git/gun-detection/datasets/yolov8 in yolov8:: 100%|███████████████████████████████████████████████| 8142/8142 [00:02<00:00, 4044.87it/s]\n"
     ]
    }
   ],
   "source": [
    "dataset = project.version(ROBOFLOW_PROJECT_VERSION).download(\"yolov8\", location=f\"{HOME}/datasets/yolov8\")"
   ]
  },
  {
   "cell_type": "code",
   "execution_count": 16,
   "metadata": {
    "colab": {
     "base_uri": "https://localhost:8080/"
    },
    "executionInfo": {
     "elapsed": 144716,
     "status": "ok",
     "timestamp": 1687721952427,
     "user": {
      "displayName": "Florencia Vela",
      "userId": "10969127478423233811"
     },
     "user_tz": 180
    },
    "id": "yiI0tu8mBpLv",
    "outputId": "22faac9d-e49d-42c8-887b-0969a0c80aae"
   },
   "outputs": [
    {
     "name": "stdout",
     "output_type": "stream",
     "text": [
      "Downloading Dataset Version Zip in /Users/florenciavela/Desktop/flor/git/gun-detection/datasets/yolov7 to yolov7pytorch: 100% [295614720 / 295614720] bytes\n"
     ]
    },
    {
     "name": "stderr",
     "output_type": "stream",
     "text": [
      "Extracting Dataset Version Zip to /Users/florenciavela/Desktop/flor/git/gun-detection/datasets/yolov7 in yolov7pytorch:: 100%|████████████████████████████████████████| 8142/8142 [00:01<00:00, 5433.37it/s]\n"
     ]
    }
   ],
   "source": [
    "dataset = project.version(ROBOFLOW_PROJECT_VERSION).download(\"yolov7\", location=f\"{HOME}/datasets/yolov7\")"
   ]
  },
  {
   "cell_type": "code",
   "execution_count": 17,
   "metadata": {
    "colab": {
     "base_uri": "https://localhost:8080/"
    },
    "executionInfo": {
     "elapsed": 139139,
     "status": "ok",
     "timestamp": 1687722091558,
     "user": {
      "displayName": "Florencia Vela",
      "userId": "10969127478423233811"
     },
     "user_tz": 180
    },
    "id": "b35q-Va67D3h",
    "outputId": "2e31d7d1-dbd8-471f-adfd-2e32506cdec0"
   },
   "outputs": [
    {
     "name": "stdout",
     "output_type": "stream",
     "text": [
      "Downloading Dataset Version Zip in /Users/florenciavela/Desktop/flor/git/gun-detection/datasets/yolov5 to yolov5pytorch: 100% [295614391 / 295614391] bytes\n"
     ]
    },
    {
     "name": "stderr",
     "output_type": "stream",
     "text": [
      "Extracting Dataset Version Zip to /Users/florenciavela/Desktop/flor/git/gun-detection/datasets/yolov5 in yolov5pytorch:: 100%|████████████████████████████████████████| 8142/8142 [00:02<00:00, 3939.86it/s]\n"
     ]
    }
   ],
   "source": [
    "dataset = project.version(ROBOFLOW_PROJECT_VERSION).download(\"yolov5\", location=f\"{HOME}/datasets/yolov5\")"
   ]
  },
  {
   "cell_type": "code",
   "execution_count": 18,
   "metadata": {
    "colab": {
     "base_uri": "https://localhost:8080/"
    },
    "executionInfo": {
     "elapsed": 1456,
     "status": "ok",
     "timestamp": 1687722384554,
     "user": {
      "displayName": "Florencia Vela",
      "userId": "10969127478423233811"
     },
     "user_tz": 180
    },
    "id": "pNGPvarwFUY2",
    "outputId": "4423644c-2402-4f09-e7a2-6f9268ca5064"
   },
   "outputs": [
    {
     "name": "stdout",
     "output_type": "stream",
     "text": [
      "\u001b[34myolov5\u001b[m\u001b[m/ \u001b[34myolov7\u001b[m\u001b[m/ \u001b[34myolov8\u001b[m\u001b[m/\r\n"
     ]
    }
   ],
   "source": [
    "%ls {HOME}/datasets"
   ]
  }
 ],
 "metadata": {
  "colab": {
   "authorship_tag": "ABX9TyNlpWGpAOmPrmdrgJ8WZL5J",
   "provenance": []
  },
  "kernelspec": {
   "display_name": "Python 3 (ipykernel)",
   "language": "python",
   "name": "python3"
  },
  "language_info": {
   "codemirror_mode": {
    "name": "ipython",
    "version": 3
   },
   "file_extension": ".py",
   "mimetype": "text/x-python",
   "name": "python",
   "nbconvert_exporter": "python",
   "pygments_lexer": "ipython3",
   "version": "3.10.9"
  }
 },
 "nbformat": 4,
 "nbformat_minor": 1
}
